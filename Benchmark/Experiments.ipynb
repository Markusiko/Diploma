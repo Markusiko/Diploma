{
 "cells": [
  {
   "cell_type": "code",
   "execution_count": 1,
   "id": "4b14a96a",
   "metadata": {},
   "outputs": [],
   "source": [
    "from utils import *"
   ]
  },
  {
   "cell_type": "markdown",
   "id": "f5967508",
   "metadata": {},
   "source": [
    "###  I. Изначальная версия"
   ]
  },
  {
   "cell_type": "code",
   "execution_count": 2,
   "id": "5fdea020",
   "metadata": {},
   "outputs": [],
   "source": [
    "rho = np.array([[1.00,  0.10,  0.45,  0.64 * np.sqrt(32.00)],\n",
    "                [0.10,  1.00, -0.35, -0.24 * np.sqrt(32.00)],\n",
    "                [0.45, -0.35,  1.00,  0.14 * np.sqrt(32.00)],\n",
    "                [0.64 * np.sqrt(32.00), -0.24 * np.sqrt(32.00),  0.14 * np.sqrt(32.00), 32.00]])\n",
    "\n",
    "r = 0.9\n",
    "betas = np.array([1, 1, 1])\n",
    "gammas = np.array([[3.3, 0.0, 0.0], # в оригинале 0.9, но мб надо 3.3\n",
    "                   [1.0, 1.0, 0.0],\n",
    "                   [1.0, 0.0, 1.0]])\n",
    "gammas = gammas.T"
   ]
  },
  {
   "cell_type": "code",
   "execution_count": 3,
   "id": "670f1a83",
   "metadata": {},
   "outputs": [
    {
     "data": {
      "application/vnd.jupyter.widget-view+json": {
       "model_id": "4f3534311ed248489d22751e1bd04dc5",
       "version_major": 2,
       "version_minor": 0
      },
      "text/plain": [
       "  0%|          | 0/1000 [00:00<?, ?it/s]"
      ]
     },
     "metadata": {},
     "output_type": "display_data"
    },
    {
     "data": {
      "text/html": [
       "<div>\n",
       "<style scoped>\n",
       "    .dataframe tbody tr th:only-of-type {\n",
       "        vertical-align: middle;\n",
       "    }\n",
       "\n",
       "    .dataframe tbody tr th {\n",
       "        vertical-align: top;\n",
       "    }\n",
       "\n",
       "    .dataframe thead th {\n",
       "        text-align: right;\n",
       "    }\n",
       "</style>\n",
       "<table border=\"1\" class=\"dataframe\">\n",
       "  <thead>\n",
       "    <tr style=\"text-align: right;\">\n",
       "      <th></th>\n",
       "      <th>method</th>\n",
       "      <th>beta0_mean</th>\n",
       "      <th>beta0_sd</th>\n",
       "      <th>beta0_MAPE</th>\n",
       "      <th>beta1_mean</th>\n",
       "      <th>beta1_sd</th>\n",
       "      <th>beta1_MAPE</th>\n",
       "      <th>beta2_mean</th>\n",
       "      <th>beta2_sd</th>\n",
       "      <th>beta2_MAPE</th>\n",
       "    </tr>\n",
       "  </thead>\n",
       "  <tbody>\n",
       "    <tr>\n",
       "      <th>0</th>\n",
       "      <td>OLS</td>\n",
       "      <td>2.405652</td>\n",
       "      <td>0.091888</td>\n",
       "      <td>140.565223</td>\n",
       "      <td>1.195146</td>\n",
       "      <td>0.006034</td>\n",
       "      <td>19.536283</td>\n",
       "      <td>1.119276</td>\n",
       "      <td>0.006681</td>\n",
       "      <td>12.462015</td>\n",
       "    </tr>\n",
       "    <tr>\n",
       "      <th>1</th>\n",
       "      <td>DMF</td>\n",
       "      <td>0.887245</td>\n",
       "      <td>0.318801</td>\n",
       "      <td>45.770028</td>\n",
       "      <td>0.993512</td>\n",
       "      <td>0.009698</td>\n",
       "      <td>7.872344</td>\n",
       "      <td>0.989902</td>\n",
       "      <td>0.010002</td>\n",
       "      <td>8.043129</td>\n",
       "    </tr>\n",
       "    <tr>\n",
       "      <th>2</th>\n",
       "      <td>Catboost</td>\n",
       "      <td>4.106765</td>\n",
       "      <td>754.617968</td>\n",
       "      <td>1041.275638</td>\n",
       "      <td>1.029795</td>\n",
       "      <td>0.008985</td>\n",
       "      <td>7.860025</td>\n",
       "      <td>1.016276</td>\n",
       "      <td>0.009348</td>\n",
       "      <td>7.830933</td>\n",
       "    </tr>\n",
       "  </tbody>\n",
       "</table>\n",
       "</div>"
      ],
      "text/plain": [
       "     method  beta0_mean    beta0_sd   beta0_MAPE  beta1_mean  beta1_sd  \\\n",
       "0       OLS    2.405652    0.091888   140.565223    1.195146  0.006034   \n",
       "1       DMF    0.887245    0.318801    45.770028    0.993512  0.009698   \n",
       "2  Catboost    4.106765  754.617968  1041.275638    1.029795  0.008985   \n",
       "\n",
       "   beta1_MAPE  beta2_mean  beta2_sd  beta2_MAPE  \n",
       "0   19.536283    1.119276  0.006681   12.462015  \n",
       "1    7.872344    0.989902  0.010002    8.043129  \n",
       "2    7.860025    1.016276  0.009348    7.830933  "
      ]
     },
     "execution_count": 3,
     "metadata": {},
     "output_type": "execute_result"
    }
   ],
   "source": [
    "np.random.seed(999)\n",
    "\n",
    "run_simulations(n=1000, rho=rho, r=r, betas=betas, gammas=gammas)"
   ]
  },
  {
   "cell_type": "code",
   "execution_count": 4,
   "id": "0bde789e",
   "metadata": {},
   "outputs": [
    {
     "data": {
      "application/vnd.jupyter.widget-view+json": {
       "model_id": "9917791a0ab84f0ca1a45852db133824",
       "version_major": 2,
       "version_minor": 0
      },
      "text/plain": [
       "  0%|          | 0/1000 [00:00<?, ?it/s]"
      ]
     },
     "metadata": {},
     "output_type": "display_data"
    },
    {
     "data": {
      "text/html": [
       "<div>\n",
       "<style scoped>\n",
       "    .dataframe tbody tr th:only-of-type {\n",
       "        vertical-align: middle;\n",
       "    }\n",
       "\n",
       "    .dataframe tbody tr th {\n",
       "        vertical-align: top;\n",
       "    }\n",
       "\n",
       "    .dataframe thead th {\n",
       "        text-align: right;\n",
       "    }\n",
       "</style>\n",
       "<table border=\"1\" class=\"dataframe\">\n",
       "  <thead>\n",
       "    <tr style=\"text-align: right;\">\n",
       "      <th></th>\n",
       "      <th>method</th>\n",
       "      <th>beta0_mean</th>\n",
       "      <th>beta0_sd</th>\n",
       "      <th>beta0_MAPE</th>\n",
       "      <th>beta1_mean</th>\n",
       "      <th>beta1_sd</th>\n",
       "      <th>beta1_MAPE</th>\n",
       "      <th>beta2_mean</th>\n",
       "      <th>beta2_sd</th>\n",
       "      <th>beta2_MAPE</th>\n",
       "    </tr>\n",
       "  </thead>\n",
       "  <tbody>\n",
       "    <tr>\n",
       "      <th>0</th>\n",
       "      <td>OLS</td>\n",
       "      <td>2.423003</td>\n",
       "      <td>0.008660</td>\n",
       "      <td>142.300318</td>\n",
       "      <td>1.199040</td>\n",
       "      <td>0.000583</td>\n",
       "      <td>19.904016</td>\n",
       "      <td>1.118455</td>\n",
       "      <td>0.000631</td>\n",
       "      <td>11.845506</td>\n",
       "    </tr>\n",
       "    <tr>\n",
       "      <th>1</th>\n",
       "      <td>DMF</td>\n",
       "      <td>0.874552</td>\n",
       "      <td>0.029752</td>\n",
       "      <td>17.174862</td>\n",
       "      <td>0.994753</td>\n",
       "      <td>0.000903</td>\n",
       "      <td>2.424003</td>\n",
       "      <td>0.986093</td>\n",
       "      <td>0.000962</td>\n",
       "      <td>2.730854</td>\n",
       "    </tr>\n",
       "    <tr>\n",
       "      <th>2</th>\n",
       "      <td>Catboost</td>\n",
       "      <td>0.808828</td>\n",
       "      <td>179.750929</td>\n",
       "      <td>844.788427</td>\n",
       "      <td>1.014481</td>\n",
       "      <td>0.000962</td>\n",
       "      <td>2.770993</td>\n",
       "      <td>1.008191</td>\n",
       "      <td>0.000968</td>\n",
       "      <td>2.547159</td>\n",
       "    </tr>\n",
       "  </tbody>\n",
       "</table>\n",
       "</div>"
      ],
      "text/plain": [
       "     method  beta0_mean    beta0_sd  beta0_MAPE  beta1_mean  beta1_sd  \\\n",
       "0       OLS    2.423003    0.008660  142.300318    1.199040  0.000583   \n",
       "1       DMF    0.874552    0.029752   17.174862    0.994753  0.000903   \n",
       "2  Catboost    0.808828  179.750929  844.788427    1.014481  0.000962   \n",
       "\n",
       "   beta1_MAPE  beta2_mean  beta2_sd  beta2_MAPE  \n",
       "0   19.904016    1.118455  0.000631   11.845506  \n",
       "1    2.424003    0.986093  0.000962    2.730854  \n",
       "2    2.770993    1.008191  0.000968    2.547159  "
      ]
     },
     "execution_count": 4,
     "metadata": {},
     "output_type": "execute_result"
    }
   ],
   "source": [
    "np.random.seed(999)\n",
    "\n",
    "run_simulations(n=10000, rho=rho, r=r, betas=betas, gammas=gammas)"
   ]
  },
  {
   "cell_type": "code",
   "execution_count": 5,
   "id": "c7e5a336",
   "metadata": {},
   "outputs": [
    {
     "data": {
      "application/vnd.jupyter.widget-view+json": {
       "model_id": "93b61812946841fd89c8eb577e5774b6",
       "version_major": 2,
       "version_minor": 0
      },
      "text/plain": [
       "  0%|          | 0/1000 [00:00<?, ?it/s]"
      ]
     },
     "metadata": {},
     "output_type": "display_data"
    },
    {
     "data": {
      "text/html": [
       "<div>\n",
       "<style scoped>\n",
       "    .dataframe tbody tr th:only-of-type {\n",
       "        vertical-align: middle;\n",
       "    }\n",
       "\n",
       "    .dataframe tbody tr th {\n",
       "        vertical-align: top;\n",
       "    }\n",
       "\n",
       "    .dataframe thead th {\n",
       "        text-align: right;\n",
       "    }\n",
       "</style>\n",
       "<table border=\"1\" class=\"dataframe\">\n",
       "  <thead>\n",
       "    <tr style=\"text-align: right;\">\n",
       "      <th></th>\n",
       "      <th>method</th>\n",
       "      <th>beta0_mean</th>\n",
       "      <th>beta0_sd</th>\n",
       "      <th>beta0_MAPE</th>\n",
       "      <th>beta1_mean</th>\n",
       "      <th>beta1_sd</th>\n",
       "      <th>beta1_MAPE</th>\n",
       "      <th>beta2_mean</th>\n",
       "      <th>beta2_sd</th>\n",
       "      <th>beta2_MAPE</th>\n",
       "    </tr>\n",
       "  </thead>\n",
       "  <tbody>\n",
       "    <tr>\n",
       "      <th>0</th>\n",
       "      <td>OLS</td>\n",
       "      <td>2.423369</td>\n",
       "      <td>0.000863</td>\n",
       "      <td>142.336928</td>\n",
       "      <td>1.197959</td>\n",
       "      <td>0.000062</td>\n",
       "      <td>19.795896</td>\n",
       "      <td>1.117813</td>\n",
       "      <td>0.000065</td>\n",
       "      <td>11.781334</td>\n",
       "    </tr>\n",
       "    <tr>\n",
       "      <th>1</th>\n",
       "      <td>DMF</td>\n",
       "      <td>0.873750</td>\n",
       "      <td>0.003022</td>\n",
       "      <td>12.669436</td>\n",
       "      <td>0.994028</td>\n",
       "      <td>0.000100</td>\n",
       "      <td>0.941664</td>\n",
       "      <td>0.985224</td>\n",
       "      <td>0.000091</td>\n",
       "      <td>1.523557</td>\n",
       "    </tr>\n",
       "    <tr>\n",
       "      <th>2</th>\n",
       "      <td>Catboost</td>\n",
       "      <td>-8.073288</td>\n",
       "      <td>70.164166</td>\n",
       "      <td>987.576565</td>\n",
       "      <td>1.011340</td>\n",
       "      <td>0.000102</td>\n",
       "      <td>1.271959</td>\n",
       "      <td>1.006553</td>\n",
       "      <td>0.000093</td>\n",
       "      <td>0.952400</td>\n",
       "    </tr>\n",
       "  </tbody>\n",
       "</table>\n",
       "</div>"
      ],
      "text/plain": [
       "     method  beta0_mean   beta0_sd  beta0_MAPE  beta1_mean  beta1_sd  \\\n",
       "0       OLS    2.423369   0.000863  142.336928    1.197959  0.000062   \n",
       "1       DMF    0.873750   0.003022   12.669436    0.994028  0.000100   \n",
       "2  Catboost   -8.073288  70.164166  987.576565    1.011340  0.000102   \n",
       "\n",
       "   beta1_MAPE  beta2_mean  beta2_sd  beta2_MAPE  \n",
       "0   19.795896    1.117813  0.000065   11.781334  \n",
       "1    0.941664    0.985224  0.000091    1.523557  \n",
       "2    1.271959    1.006553  0.000093    0.952400  "
      ]
     },
     "execution_count": 5,
     "metadata": {},
     "output_type": "execute_result"
    }
   ],
   "source": [
    "np.random.seed(999)\n",
    "\n",
    "run_simulations(n=100000, rho=rho, r=r, betas=betas, gammas=gammas)"
   ]
  },
  {
   "cell_type": "code",
   "execution_count": null,
   "id": "0d83f391",
   "metadata": {},
   "outputs": [],
   "source": []
  },
  {
   "cell_type": "markdown",
   "id": "dc15e281",
   "metadata": {},
   "source": [
    "### II. Более высокие корреляции ошибок"
   ]
  },
  {
   "cell_type": "code",
   "execution_count": 6,
   "id": "cd1d998a",
   "metadata": {},
   "outputs": [],
   "source": [
    "rho = np.array([[1.00,  0.50,  0.60,  0.64 * np.sqrt(32.00)],\n",
    "                [0.50,  1.00,  0.70, -0.24 * np.sqrt(32.00)],\n",
    "                [0.60,  0.70,  1.00,  0.14 * np.sqrt(32.00)],\n",
    "                [0.64 * np.sqrt(32.00), -0.24 * np.sqrt(32.00),  0.14 * np.sqrt(32.00), 32.00]])\n",
    "\n",
    "r = 0.9\n",
    "betas = np.array([1, 1, 1])\n",
    "gammas = np.array([[3.3, 0.0, 0.0], # в оригинале 0.9, но мб надо 3.3\n",
    "                   [1.0, 1.0, 0.0],\n",
    "                   [1.0, 0.0, 1.0]])\n",
    "gammas = gammas.T"
   ]
  },
  {
   "cell_type": "code",
   "execution_count": 7,
   "id": "1fec6f0b",
   "metadata": {},
   "outputs": [
    {
     "data": {
      "application/vnd.jupyter.widget-view+json": {
       "model_id": "5d22bbda419244549f366747c467b8ba",
       "version_major": 2,
       "version_minor": 0
      },
      "text/plain": [
       "  0%|          | 0/1000 [00:00<?, ?it/s]"
      ]
     },
     "metadata": {},
     "output_type": "display_data"
    },
    {
     "data": {
      "text/html": [
       "<div>\n",
       "<style scoped>\n",
       "    .dataframe tbody tr th:only-of-type {\n",
       "        vertical-align: middle;\n",
       "    }\n",
       "\n",
       "    .dataframe tbody tr th {\n",
       "        vertical-align: top;\n",
       "    }\n",
       "\n",
       "    .dataframe thead th {\n",
       "        text-align: right;\n",
       "    }\n",
       "</style>\n",
       "<table border=\"1\" class=\"dataframe\">\n",
       "  <thead>\n",
       "    <tr style=\"text-align: right;\">\n",
       "      <th></th>\n",
       "      <th>method</th>\n",
       "      <th>beta0_mean</th>\n",
       "      <th>beta0_sd</th>\n",
       "      <th>beta0_MAPE</th>\n",
       "      <th>beta1_mean</th>\n",
       "      <th>beta1_sd</th>\n",
       "      <th>beta1_MAPE</th>\n",
       "      <th>beta2_mean</th>\n",
       "      <th>beta2_sd</th>\n",
       "      <th>beta2_MAPE</th>\n",
       "    </tr>\n",
       "  </thead>\n",
       "  <tbody>\n",
       "    <tr>\n",
       "      <th>0</th>\n",
       "      <td>OLS</td>\n",
       "      <td>2.409674</td>\n",
       "      <td>0.089768</td>\n",
       "      <td>140.967423</td>\n",
       "      <td>1.203230</td>\n",
       "      <td>0.006089</td>\n",
       "      <td>20.343575</td>\n",
       "      <td>1.117469</td>\n",
       "      <td>0.006356</td>\n",
       "      <td>12.196743</td>\n",
       "    </tr>\n",
       "    <tr>\n",
       "      <th>1</th>\n",
       "      <td>DMF</td>\n",
       "      <td>0.978607</td>\n",
       "      <td>0.214757</td>\n",
       "      <td>36.841083</td>\n",
       "      <td>0.994779</td>\n",
       "      <td>0.008285</td>\n",
       "      <td>7.192525</td>\n",
       "      <td>1.003947</td>\n",
       "      <td>0.008456</td>\n",
       "      <td>7.395345</td>\n",
       "    </tr>\n",
       "    <tr>\n",
       "      <th>2</th>\n",
       "      <td>Catboost</td>\n",
       "      <td>3.919351</td>\n",
       "      <td>605.267329</td>\n",
       "      <td>1103.107886</td>\n",
       "      <td>1.022440</td>\n",
       "      <td>0.008414</td>\n",
       "      <td>7.477410</td>\n",
       "      <td>1.018291</td>\n",
       "      <td>0.008228</td>\n",
       "      <td>7.370488</td>\n",
       "    </tr>\n",
       "  </tbody>\n",
       "</table>\n",
       "</div>"
      ],
      "text/plain": [
       "     method  beta0_mean    beta0_sd   beta0_MAPE  beta1_mean  beta1_sd  \\\n",
       "0       OLS    2.409674    0.089768   140.967423    1.203230  0.006089   \n",
       "1       DMF    0.978607    0.214757    36.841083    0.994779  0.008285   \n",
       "2  Catboost    3.919351  605.267329  1103.107886    1.022440  0.008414   \n",
       "\n",
       "   beta1_MAPE  beta2_mean  beta2_sd  beta2_MAPE  \n",
       "0   20.343575    1.117469  0.006356   12.196743  \n",
       "1    7.192525    1.003947  0.008456    7.395345  \n",
       "2    7.477410    1.018291  0.008228    7.370488  "
      ]
     },
     "execution_count": 7,
     "metadata": {},
     "output_type": "execute_result"
    }
   ],
   "source": [
    "np.random.seed(999)\n",
    "\n",
    "run_simulations(n=1000, rho=rho, r=r, betas=betas, gammas=gammas)"
   ]
  },
  {
   "cell_type": "code",
   "execution_count": 8,
   "id": "8a1f853e",
   "metadata": {},
   "outputs": [
    {
     "data": {
      "application/vnd.jupyter.widget-view+json": {
       "model_id": "d98415aa3ff544248dbf0249bb14c03c",
       "version_major": 2,
       "version_minor": 0
      },
      "text/plain": [
       "  0%|          | 0/1000 [00:00<?, ?it/s]"
      ]
     },
     "metadata": {},
     "output_type": "display_data"
    },
    {
     "name": "stderr",
     "output_type": "stream",
     "text": [
      "/Users/markymark/Desktop/Diploma/Benchmark/utils.py:104: RuntimeWarning: invalid value encountered in true_divide\n",
      "  df['lambda3'] = prob_lr[:, 2] * np.log(prob_lr[:, 2]) / (1 - prob_lr[:, 2])\n",
      "/Users/markymark/Desktop/Diploma/Benchmark/utils.py:104: RuntimeWarning: invalid value encountered in true_divide\n",
      "  df['lambda3'] = prob_lr[:, 2] * np.log(prob_lr[:, 2]) / (1 - prob_lr[:, 2])\n",
      "/Users/markymark/Desktop/Diploma/Benchmark/utils.py:104: RuntimeWarning: invalid value encountered in true_divide\n",
      "  df['lambda3'] = prob_lr[:, 2] * np.log(prob_lr[:, 2]) / (1 - prob_lr[:, 2])\n"
     ]
    },
    {
     "data": {
      "text/html": [
       "<div>\n",
       "<style scoped>\n",
       "    .dataframe tbody tr th:only-of-type {\n",
       "        vertical-align: middle;\n",
       "    }\n",
       "\n",
       "    .dataframe tbody tr th {\n",
       "        vertical-align: top;\n",
       "    }\n",
       "\n",
       "    .dataframe thead th {\n",
       "        text-align: right;\n",
       "    }\n",
       "</style>\n",
       "<table border=\"1\" class=\"dataframe\">\n",
       "  <thead>\n",
       "    <tr style=\"text-align: right;\">\n",
       "      <th></th>\n",
       "      <th>method</th>\n",
       "      <th>beta0_mean</th>\n",
       "      <th>beta0_sd</th>\n",
       "      <th>beta0_MAPE</th>\n",
       "      <th>beta1_mean</th>\n",
       "      <th>beta1_sd</th>\n",
       "      <th>beta1_MAPE</th>\n",
       "      <th>beta2_mean</th>\n",
       "      <th>beta2_sd</th>\n",
       "      <th>beta2_MAPE</th>\n",
       "    </tr>\n",
       "  </thead>\n",
       "  <tbody>\n",
       "    <tr>\n",
       "      <th>0</th>\n",
       "      <td>OLS</td>\n",
       "      <td>2.418841</td>\n",
       "      <td>0.008770</td>\n",
       "      <td>141.884065</td>\n",
       "      <td>1.206052</td>\n",
       "      <td>0.000610</td>\n",
       "      <td>20.605191</td>\n",
       "      <td>1.114942</td>\n",
       "      <td>0.000610</td>\n",
       "      <td>11.494228</td>\n",
       "    </tr>\n",
       "    <tr>\n",
       "      <th>1</th>\n",
       "      <td>DMF</td>\n",
       "      <td>0.957392</td>\n",
       "      <td>0.020480</td>\n",
       "      <td>11.959701</td>\n",
       "      <td>0.994080</td>\n",
       "      <td>0.000768</td>\n",
       "      <td>2.241755</td>\n",
       "      <td>0.999669</td>\n",
       "      <td>0.000836</td>\n",
       "      <td>2.301708</td>\n",
       "    </tr>\n",
       "    <tr>\n",
       "      <th>2</th>\n",
       "      <td>Catboost</td>\n",
       "      <td>-2.416645</td>\n",
       "      <td>306.010926</td>\n",
       "      <td>1202.844642</td>\n",
       "      <td>1.009772</td>\n",
       "      <td>0.000844</td>\n",
       "      <td>2.485660</td>\n",
       "      <td>1.006289</td>\n",
       "      <td>0.000865</td>\n",
       "      <td>2.395867</td>\n",
       "    </tr>\n",
       "  </tbody>\n",
       "</table>\n",
       "</div>"
      ],
      "text/plain": [
       "     method  beta0_mean    beta0_sd   beta0_MAPE  beta1_mean  beta1_sd  \\\n",
       "0       OLS    2.418841    0.008770   141.884065    1.206052  0.000610   \n",
       "1       DMF    0.957392    0.020480    11.959701    0.994080  0.000768   \n",
       "2  Catboost   -2.416645  306.010926  1202.844642    1.009772  0.000844   \n",
       "\n",
       "   beta1_MAPE  beta2_mean  beta2_sd  beta2_MAPE  \n",
       "0   20.605191    1.114942  0.000610   11.494228  \n",
       "1    2.241755    0.999669  0.000836    2.301708  \n",
       "2    2.485660    1.006289  0.000865    2.395867  "
      ]
     },
     "execution_count": 8,
     "metadata": {},
     "output_type": "execute_result"
    }
   ],
   "source": [
    "np.random.seed(999)\n",
    "\n",
    "run_simulations(n=10000, rho=rho, r=r, betas=betas, gammas=gammas)"
   ]
  },
  {
   "cell_type": "code",
   "execution_count": 9,
   "id": "458737b9",
   "metadata": {},
   "outputs": [
    {
     "data": {
      "application/vnd.jupyter.widget-view+json": {
       "model_id": "3626043bb2334e6f9e379deb1b474cec",
       "version_major": 2,
       "version_minor": 0
      },
      "text/plain": [
       "  0%|          | 0/1000 [00:00<?, ?it/s]"
      ]
     },
     "metadata": {},
     "output_type": "display_data"
    },
    {
     "name": "stderr",
     "output_type": "stream",
     "text": [
      "/Users/markymark/Desktop/Diploma/Benchmark/utils.py:104: RuntimeWarning: invalid value encountered in true_divide\n",
      "  df['lambda3'] = prob_lr[:, 2] * np.log(prob_lr[:, 2]) / (1 - prob_lr[:, 2])\n",
      "/Users/markymark/Desktop/Diploma/Benchmark/utils.py:104: RuntimeWarning: invalid value encountered in true_divide\n",
      "  df['lambda3'] = prob_lr[:, 2] * np.log(prob_lr[:, 2]) / (1 - prob_lr[:, 2])\n",
      "/Users/markymark/Desktop/Diploma/Benchmark/utils.py:104: RuntimeWarning: invalid value encountered in true_divide\n",
      "  df['lambda3'] = prob_lr[:, 2] * np.log(prob_lr[:, 2]) / (1 - prob_lr[:, 2])\n",
      "/Users/markymark/Desktop/Diploma/Benchmark/utils.py:103: RuntimeWarning: invalid value encountered in true_divide\n",
      "  df['lambda2'] = prob_lr[:, 1] * np.log(prob_lr[:, 1]) / (1 - prob_lr[:, 1])\n",
      "/Users/markymark/Desktop/Diploma/Benchmark/utils.py:104: RuntimeWarning: invalid value encountered in true_divide\n",
      "  df['lambda3'] = prob_lr[:, 2] * np.log(prob_lr[:, 2]) / (1 - prob_lr[:, 2])\n",
      "/Users/markymark/Desktop/Diploma/Benchmark/utils.py:104: RuntimeWarning: invalid value encountered in true_divide\n",
      "  df['lambda3'] = prob_lr[:, 2] * np.log(prob_lr[:, 2]) / (1 - prob_lr[:, 2])\n",
      "/Users/markymark/Desktop/Diploma/Benchmark/utils.py:104: RuntimeWarning: invalid value encountered in true_divide\n",
      "  df['lambda3'] = prob_lr[:, 2] * np.log(prob_lr[:, 2]) / (1 - prob_lr[:, 2])\n",
      "/Users/markymark/Desktop/Diploma/Benchmark/utils.py:104: RuntimeWarning: invalid value encountered in true_divide\n",
      "  df['lambda3'] = prob_lr[:, 2] * np.log(prob_lr[:, 2]) / (1 - prob_lr[:, 2])\n",
      "/Users/markymark/Desktop/Diploma/Benchmark/utils.py:104: RuntimeWarning: invalid value encountered in true_divide\n",
      "  df['lambda3'] = prob_lr[:, 2] * np.log(prob_lr[:, 2]) / (1 - prob_lr[:, 2])\n",
      "/Users/markymark/Desktop/Diploma/Benchmark/utils.py:104: RuntimeWarning: invalid value encountered in true_divide\n",
      "  df['lambda3'] = prob_lr[:, 2] * np.log(prob_lr[:, 2]) / (1 - prob_lr[:, 2])\n",
      "/Users/markymark/Desktop/Diploma/Benchmark/utils.py:103: RuntimeWarning: invalid value encountered in true_divide\n",
      "  df['lambda2'] = prob_lr[:, 1] * np.log(prob_lr[:, 1]) / (1 - prob_lr[:, 1])\n",
      "/Users/markymark/Desktop/Diploma/Benchmark/utils.py:104: RuntimeWarning: invalid value encountered in true_divide\n",
      "  df['lambda3'] = prob_lr[:, 2] * np.log(prob_lr[:, 2]) / (1 - prob_lr[:, 2])\n",
      "/Users/markymark/Desktop/Diploma/Benchmark/utils.py:103: RuntimeWarning: invalid value encountered in true_divide\n",
      "  df['lambda2'] = prob_lr[:, 1] * np.log(prob_lr[:, 1]) / (1 - prob_lr[:, 1])\n",
      "/Users/markymark/Desktop/Diploma/Benchmark/utils.py:104: RuntimeWarning: invalid value encountered in true_divide\n",
      "  df['lambda3'] = prob_lr[:, 2] * np.log(prob_lr[:, 2]) / (1 - prob_lr[:, 2])\n",
      "/Users/markymark/Desktop/Diploma/Benchmark/utils.py:104: RuntimeWarning: invalid value encountered in true_divide\n",
      "  df['lambda3'] = prob_lr[:, 2] * np.log(prob_lr[:, 2]) / (1 - prob_lr[:, 2])\n",
      "/Users/markymark/Desktop/Diploma/Benchmark/utils.py:104: RuntimeWarning: invalid value encountered in true_divide\n",
      "  df['lambda3'] = prob_lr[:, 2] * np.log(prob_lr[:, 2]) / (1 - prob_lr[:, 2])\n"
     ]
    },
    {
     "data": {
      "text/html": [
       "<div>\n",
       "<style scoped>\n",
       "    .dataframe tbody tr th:only-of-type {\n",
       "        vertical-align: middle;\n",
       "    }\n",
       "\n",
       "    .dataframe tbody tr th {\n",
       "        vertical-align: top;\n",
       "    }\n",
       "\n",
       "    .dataframe thead th {\n",
       "        text-align: right;\n",
       "    }\n",
       "</style>\n",
       "<table border=\"1\" class=\"dataframe\">\n",
       "  <thead>\n",
       "    <tr style=\"text-align: right;\">\n",
       "      <th></th>\n",
       "      <th>method</th>\n",
       "      <th>beta0_mean</th>\n",
       "      <th>beta0_sd</th>\n",
       "      <th>beta0_MAPE</th>\n",
       "      <th>beta1_mean</th>\n",
       "      <th>beta1_sd</th>\n",
       "      <th>beta1_MAPE</th>\n",
       "      <th>beta2_mean</th>\n",
       "      <th>beta2_sd</th>\n",
       "      <th>beta2_MAPE</th>\n",
       "    </tr>\n",
       "  </thead>\n",
       "  <tbody>\n",
       "    <tr>\n",
       "      <th>0</th>\n",
       "      <td>OLS</td>\n",
       "      <td>2.419569</td>\n",
       "      <td>0.000798</td>\n",
       "      <td>141.956888</td>\n",
       "      <td>1.205339</td>\n",
       "      <td>0.000061</td>\n",
       "      <td>20.533924</td>\n",
       "      <td>1.114267</td>\n",
       "      <td>0.000062</td>\n",
       "      <td>11.426672</td>\n",
       "    </tr>\n",
       "    <tr>\n",
       "      <th>1</th>\n",
       "      <td>DMF</td>\n",
       "      <td>0.956758</td>\n",
       "      <td>0.002060</td>\n",
       "      <td>5.133349</td>\n",
       "      <td>0.993316</td>\n",
       "      <td>0.000083</td>\n",
       "      <td>0.919769</td>\n",
       "      <td>0.999070</td>\n",
       "      <td>0.000079</td>\n",
       "      <td>0.711134</td>\n",
       "    </tr>\n",
       "    <tr>\n",
       "      <th>2</th>\n",
       "      <td>Catboost</td>\n",
       "      <td>-7.482793</td>\n",
       "      <td>86.243200</td>\n",
       "      <td>1009.875439</td>\n",
       "      <td>1.009197</td>\n",
       "      <td>0.000107</td>\n",
       "      <td>1.127656</td>\n",
       "      <td>1.004759</td>\n",
       "      <td>0.000082</td>\n",
       "      <td>0.826507</td>\n",
       "    </tr>\n",
       "  </tbody>\n",
       "</table>\n",
       "</div>"
      ],
      "text/plain": [
       "     method  beta0_mean   beta0_sd   beta0_MAPE  beta1_mean  beta1_sd  \\\n",
       "0       OLS    2.419569   0.000798   141.956888    1.205339  0.000061   \n",
       "1       DMF    0.956758   0.002060     5.133349    0.993316  0.000083   \n",
       "2  Catboost   -7.482793  86.243200  1009.875439    1.009197  0.000107   \n",
       "\n",
       "   beta1_MAPE  beta2_mean  beta2_sd  beta2_MAPE  \n",
       "0   20.533924    1.114267  0.000062   11.426672  \n",
       "1    0.919769    0.999070  0.000079    0.711134  \n",
       "2    1.127656    1.004759  0.000082    0.826507  "
      ]
     },
     "execution_count": 9,
     "metadata": {},
     "output_type": "execute_result"
    }
   ],
   "source": [
    "np.random.seed(999)\n",
    "\n",
    "run_simulations(n=100000, rho=rho, r=r, betas=betas, gammas=gammas)"
   ]
  },
  {
   "cell_type": "code",
   "execution_count": null,
   "id": "a8270171",
   "metadata": {},
   "outputs": [],
   "source": []
  }
 ],
 "metadata": {
  "kernelspec": {
   "display_name": "Python 3 (ipykernel)",
   "language": "python",
   "name": "python3"
  },
  "language_info": {
   "codemirror_mode": {
    "name": "ipython",
    "version": 3
   },
   "file_extension": ".py",
   "mimetype": "text/x-python",
   "name": "python",
   "nbconvert_exporter": "python",
   "pygments_lexer": "ipython3",
   "version": "3.9.12"
  }
 },
 "nbformat": 4,
 "nbformat_minor": 5
}
