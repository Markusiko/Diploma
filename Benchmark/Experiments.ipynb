{
 "cells": [
  {
   "cell_type": "code",
   "execution_count": 1,
   "id": "02c406e6",
   "metadata": {},
   "outputs": [],
   "source": [
    "from utils import *"
   ]
  },
  {
   "cell_type": "code",
   "execution_count": 2,
   "id": "8791c0ee",
   "metadata": {},
   "outputs": [],
   "source": [
    "rho = np.array([[1.00,  0.10,  0.45,  0.64 * np.sqrt(32.00)],\n",
    "                [0.10,  1.00, -0.35, -0.24 * np.sqrt(32.00)],\n",
    "                [0.45, -0.35,  1.00,  0.14 * np.sqrt(32.00)],\n",
    "                [0.64 * np.sqrt(32.00), -0.24 * np.sqrt(32.00),  0.14 * np.sqrt(32.00), 32.00]])\n",
    "\n",
    "r = 0.9\n",
    "betas = np.array([1, 1, 1])\n",
    "gammas = np.array([[3.3, 0.0, 0.0], # в оригинале 0.9, но мб надо 3.3\n",
    "                   [1.0, 1.0, 0.0],\n",
    "                   [1.0, 0.0, 1.0]])"
   ]
  },
  {
   "cell_type": "code",
   "execution_count": 4,
   "id": "6945cc8d",
   "metadata": {},
   "outputs": [
    {
     "data": {
      "application/vnd.jupyter.widget-view+json": {
       "model_id": "794108465f044c64bf3d615fd89be3df",
       "version_major": 2,
       "version_minor": 0
      },
      "text/plain": [
       "  0%|          | 0/1000 [00:00<?, ?it/s]"
      ]
     },
     "metadata": {},
     "output_type": "display_data"
    },
    {
     "data": {
      "text/html": [
       "<div>\n",
       "<style scoped>\n",
       "    .dataframe tbody tr th:only-of-type {\n",
       "        vertical-align: middle;\n",
       "    }\n",
       "\n",
       "    .dataframe tbody tr th {\n",
       "        vertical-align: top;\n",
       "    }\n",
       "\n",
       "    .dataframe thead th {\n",
       "        text-align: right;\n",
       "    }\n",
       "</style>\n",
       "<table border=\"1\" class=\"dataframe\">\n",
       "  <thead>\n",
       "    <tr style=\"text-align: right;\">\n",
       "      <th></th>\n",
       "      <th>method</th>\n",
       "      <th>beta0_mean</th>\n",
       "      <th>beta0_sd</th>\n",
       "      <th>beta0_MAPE</th>\n",
       "      <th>beta1_mean</th>\n",
       "      <th>beta1_sd</th>\n",
       "      <th>beta1_MAPE</th>\n",
       "      <th>beta2_mean</th>\n",
       "      <th>beta2_sd</th>\n",
       "      <th>beta2_MAPE</th>\n",
       "    </tr>\n",
       "  </thead>\n",
       "  <tbody>\n",
       "    <tr>\n",
       "      <th>0</th>\n",
       "      <td>OLS</td>\n",
       "      <td>2.012363</td>\n",
       "      <td>0.060922</td>\n",
       "      <td>101.236286</td>\n",
       "      <td>0.908164</td>\n",
       "      <td>0.004798</td>\n",
       "      <td>9.887380</td>\n",
       "      <td>0.842823</td>\n",
       "      <td>0.004511</td>\n",
       "      <td>15.743109</td>\n",
       "    </tr>\n",
       "    <tr>\n",
       "      <th>1</th>\n",
       "      <td>DMF</td>\n",
       "      <td>0.909866</td>\n",
       "      <td>0.175158</td>\n",
       "      <td>34.263808</td>\n",
       "      <td>1.010697</td>\n",
       "      <td>0.006500</td>\n",
       "      <td>6.432505</td>\n",
       "      <td>1.008086</td>\n",
       "      <td>0.007241</td>\n",
       "      <td>6.906884</td>\n",
       "    </tr>\n",
       "    <tr>\n",
       "      <th>2</th>\n",
       "      <td>Catboost</td>\n",
       "      <td>4.135813</td>\n",
       "      <td>1674.175800</td>\n",
       "      <td>1354.763989</td>\n",
       "      <td>0.990731</td>\n",
       "      <td>0.006340</td>\n",
       "      <td>6.385389</td>\n",
       "      <td>0.979231</td>\n",
       "      <td>0.006712</td>\n",
       "      <td>6.749184</td>\n",
       "    </tr>\n",
       "  </tbody>\n",
       "</table>\n",
       "</div>"
      ],
      "text/plain": [
       "     method  beta0_mean     beta0_sd   beta0_MAPE  beta1_mean  beta1_sd  \\\n",
       "0       OLS    2.012363     0.060922   101.236286    0.908164  0.004798   \n",
       "1       DMF    0.909866     0.175158    34.263808    1.010697  0.006500   \n",
       "2  Catboost    4.135813  1674.175800  1354.763989    0.990731  0.006340   \n",
       "\n",
       "   beta1_MAPE  beta2_mean  beta2_sd  beta2_MAPE  \n",
       "0    9.887380    0.842823  0.004511   15.743109  \n",
       "1    6.432505    1.008086  0.007241    6.906884  \n",
       "2    6.385389    0.979231  0.006712    6.749184  "
      ]
     },
     "execution_count": 4,
     "metadata": {},
     "output_type": "execute_result"
    }
   ],
   "source": [
    "np.random.seed(999)\n",
    "\n",
    "run_simulations(n=1000, rho=rho, r=r, betas=betas, gammas=gammas)"
   ]
  },
  {
   "cell_type": "code",
   "execution_count": 7,
   "id": "144a75de",
   "metadata": {},
   "outputs": [
    {
     "data": {
      "application/vnd.jupyter.widget-view+json": {
       "model_id": "8db4bae98b134c81bd679e4c15162362",
       "version_major": 2,
       "version_minor": 0
      },
      "text/plain": [
       "  0%|          | 0/1000 [00:00<?, ?it/s]"
      ]
     },
     "metadata": {},
     "output_type": "display_data"
    },
    {
     "data": {
      "text/html": [
       "<div>\n",
       "<style scoped>\n",
       "    .dataframe tbody tr th:only-of-type {\n",
       "        vertical-align: middle;\n",
       "    }\n",
       "\n",
       "    .dataframe tbody tr th {\n",
       "        vertical-align: top;\n",
       "    }\n",
       "\n",
       "    .dataframe thead th {\n",
       "        text-align: right;\n",
       "    }\n",
       "</style>\n",
       "<table border=\"1\" class=\"dataframe\">\n",
       "  <thead>\n",
       "    <tr style=\"text-align: right;\">\n",
       "      <th></th>\n",
       "      <th>method</th>\n",
       "      <th>beta0_mean</th>\n",
       "      <th>beta0_sd</th>\n",
       "      <th>beta0_MAPE</th>\n",
       "      <th>beta1_mean</th>\n",
       "      <th>beta1_sd</th>\n",
       "      <th>beta1_MAPE</th>\n",
       "      <th>beta2_mean</th>\n",
       "      <th>beta2_sd</th>\n",
       "      <th>beta2_MAPE</th>\n",
       "    </tr>\n",
       "  </thead>\n",
       "  <tbody>\n",
       "    <tr>\n",
       "      <th>0</th>\n",
       "      <td>OLS</td>\n",
       "      <td>2.014487</td>\n",
       "      <td>0.006472</td>\n",
       "      <td>101.448665</td>\n",
       "      <td>0.907965</td>\n",
       "      <td>0.000450</td>\n",
       "      <td>9.203506</td>\n",
       "      <td>0.840405</td>\n",
       "      <td>0.000457</td>\n",
       "      <td>15.959480</td>\n",
       "    </tr>\n",
       "    <tr>\n",
       "      <th>1</th>\n",
       "      <td>DMF</td>\n",
       "      <td>0.911139</td>\n",
       "      <td>0.017491</td>\n",
       "      <td>12.861265</td>\n",
       "      <td>1.011632</td>\n",
       "      <td>0.000606</td>\n",
       "      <td>2.190206</td>\n",
       "      <td>1.004854</td>\n",
       "      <td>0.000700</td>\n",
       "      <td>2.117664</td>\n",
       "    </tr>\n",
       "    <tr>\n",
       "      <th>2</th>\n",
       "      <td>Catboost</td>\n",
       "      <td>0.856633</td>\n",
       "      <td>264.653566</td>\n",
       "      <td>1002.048656</td>\n",
       "      <td>0.997829</td>\n",
       "      <td>0.000623</td>\n",
       "      <td>1.981896</td>\n",
       "      <td>0.985352</td>\n",
       "      <td>0.000718</td>\n",
       "      <td>2.457734</td>\n",
       "    </tr>\n",
       "  </tbody>\n",
       "</table>\n",
       "</div>"
      ],
      "text/plain": [
       "     method  beta0_mean    beta0_sd   beta0_MAPE  beta1_mean  beta1_sd  \\\n",
       "0       OLS    2.014487    0.006472   101.448665    0.907965  0.000450   \n",
       "1       DMF    0.911139    0.017491    12.861265    1.011632  0.000606   \n",
       "2  Catboost    0.856633  264.653566  1002.048656    0.997829  0.000623   \n",
       "\n",
       "   beta1_MAPE  beta2_mean  beta2_sd  beta2_MAPE  \n",
       "0    9.203506    0.840405  0.000457   15.959480  \n",
       "1    2.190206    1.004854  0.000700    2.117664  \n",
       "2    1.981896    0.985352  0.000718    2.457734  "
      ]
     },
     "execution_count": 7,
     "metadata": {},
     "output_type": "execute_result"
    }
   ],
   "source": [
    "np.random.seed(999)\n",
    "\n",
    "run_simulations(n=10000, rho=rho, r=r, betas=betas, gammas=gammas)"
   ]
  },
  {
   "cell_type": "code",
   "execution_count": null,
   "id": "92468207",
   "metadata": {},
   "outputs": [],
   "source": []
  }
 ],
 "metadata": {
  "kernelspec": {
   "display_name": "Python 3 (ipykernel)",
   "language": "python",
   "name": "python3"
  },
  "language_info": {
   "codemirror_mode": {
    "name": "ipython",
    "version": 3
   },
   "file_extension": ".py",
   "mimetype": "text/x-python",
   "name": "python",
   "nbconvert_exporter": "python",
   "pygments_lexer": "ipython3",
   "version": "3.9.12"
  }
 },
 "nbformat": 4,
 "nbformat_minor": 5
}
