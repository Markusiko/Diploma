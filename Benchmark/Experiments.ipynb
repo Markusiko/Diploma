{
 "cells": [
  {
   "cell_type": "code",
   "execution_count": 1,
   "id": "4b14a96a",
   "metadata": {},
   "outputs": [],
   "source": [
    "from utils import *"
   ]
  },
  {
   "cell_type": "markdown",
   "id": "f5967508",
   "metadata": {},
   "source": [
    "###  I. Изначальная версия"
   ]
  },
  {
   "cell_type": "code",
   "execution_count": 2,
   "id": "5fdea020",
   "metadata": {},
   "outputs": [],
   "source": [
    "rho = np.array([[1.00,  0.10,  0.45,  0.64 * np.sqrt(32.00)],\n",
    "                [0.10,  1.00, -0.35, -0.24 * np.sqrt(32.00)],\n",
    "                [0.45, -0.35,  1.00,  0.14 * np.sqrt(32.00)],\n",
    "                [0.64 * np.sqrt(32.00), -0.24 * np.sqrt(32.00),  0.14 * np.sqrt(32.00), 32.00]])\n",
    "\n",
    "r = 0.9\n",
    "betas = np.array([1, 1, 1])\n",
    "gammas = np.array([[3.3, 0.0, 0.0], # в оригинале 0.9, но мб надо 3.3\n",
    "                   [1.0, 1.0, 0.0],\n",
    "                   [1.0, 0.0, 1.0]])"
   ]
  },
  {
   "cell_type": "code",
   "execution_count": 3,
   "id": "670f1a83",
   "metadata": {},
   "outputs": [
    {
     "data": {
      "application/vnd.jupyter.widget-view+json": {
       "model_id": "e820ec87a662421eb1e5fe36aa63a2e5",
       "version_major": 2,
       "version_minor": 0
      },
      "text/plain": [
       "  0%|          | 0/1000 [00:00<?, ?it/s]"
      ]
     },
     "metadata": {},
     "output_type": "display_data"
    },
    {
     "data": {
      "text/html": [
       "<div>\n",
       "<style scoped>\n",
       "    .dataframe tbody tr th:only-of-type {\n",
       "        vertical-align: middle;\n",
       "    }\n",
       "\n",
       "    .dataframe tbody tr th {\n",
       "        vertical-align: top;\n",
       "    }\n",
       "\n",
       "    .dataframe thead th {\n",
       "        text-align: right;\n",
       "    }\n",
       "</style>\n",
       "<table border=\"1\" class=\"dataframe\">\n",
       "  <thead>\n",
       "    <tr style=\"text-align: right;\">\n",
       "      <th></th>\n",
       "      <th>method</th>\n",
       "      <th>beta0_mean</th>\n",
       "      <th>beta0_sd</th>\n",
       "      <th>beta0_MAPE</th>\n",
       "      <th>beta1_mean</th>\n",
       "      <th>beta1_sd</th>\n",
       "      <th>beta1_MAPE</th>\n",
       "      <th>beta2_mean</th>\n",
       "      <th>beta2_sd</th>\n",
       "      <th>beta2_MAPE</th>\n",
       "    </tr>\n",
       "  </thead>\n",
       "  <tbody>\n",
       "    <tr>\n",
       "      <th>0</th>\n",
       "      <td>OLS</td>\n",
       "      <td>2.012363</td>\n",
       "      <td>0.060922</td>\n",
       "      <td>101.236286</td>\n",
       "      <td>0.908164</td>\n",
       "      <td>0.004798</td>\n",
       "      <td>9.887380</td>\n",
       "      <td>0.842823</td>\n",
       "      <td>0.004511</td>\n",
       "      <td>15.743109</td>\n",
       "    </tr>\n",
       "    <tr>\n",
       "      <th>1</th>\n",
       "      <td>DMF</td>\n",
       "      <td>0.909866</td>\n",
       "      <td>0.175158</td>\n",
       "      <td>34.263808</td>\n",
       "      <td>1.010697</td>\n",
       "      <td>0.006500</td>\n",
       "      <td>6.432505</td>\n",
       "      <td>1.008086</td>\n",
       "      <td>0.007241</td>\n",
       "      <td>6.906884</td>\n",
       "    </tr>\n",
       "    <tr>\n",
       "      <th>2</th>\n",
       "      <td>Catboost</td>\n",
       "      <td>4.135813</td>\n",
       "      <td>1674.175800</td>\n",
       "      <td>1354.763989</td>\n",
       "      <td>0.990731</td>\n",
       "      <td>0.006340</td>\n",
       "      <td>6.385389</td>\n",
       "      <td>0.979231</td>\n",
       "      <td>0.006712</td>\n",
       "      <td>6.749184</td>\n",
       "    </tr>\n",
       "  </tbody>\n",
       "</table>\n",
       "</div>"
      ],
      "text/plain": [
       "     method  beta0_mean     beta0_sd   beta0_MAPE  beta1_mean  beta1_sd  \\\n",
       "0       OLS    2.012363     0.060922   101.236286    0.908164  0.004798   \n",
       "1       DMF    0.909866     0.175158    34.263808    1.010697  0.006500   \n",
       "2  Catboost    4.135813  1674.175800  1354.763989    0.990731  0.006340   \n",
       "\n",
       "   beta1_MAPE  beta2_mean  beta2_sd  beta2_MAPE  \n",
       "0    9.887380    0.842823  0.004511   15.743109  \n",
       "1    6.432505    1.008086  0.007241    6.906884  \n",
       "2    6.385389    0.979231  0.006712    6.749184  "
      ]
     },
     "execution_count": 3,
     "metadata": {},
     "output_type": "execute_result"
    }
   ],
   "source": [
    "np.random.seed(999)\n",
    "\n",
    "run_simulations(n=1000, rho=rho, r=r, betas=betas, gammas=gammas)"
   ]
  },
  {
   "cell_type": "code",
   "execution_count": 4,
   "id": "1449c4a7",
   "metadata": {},
   "outputs": [
    {
     "data": {
      "application/vnd.jupyter.widget-view+json": {
       "model_id": "a6d6250f22df4bf7b7709b29d3e6d9ab",
       "version_major": 2,
       "version_minor": 0
      },
      "text/plain": [
       "  0%|          | 0/1000 [00:00<?, ?it/s]"
      ]
     },
     "metadata": {},
     "output_type": "display_data"
    },
    {
     "data": {
      "text/html": [
       "<div>\n",
       "<style scoped>\n",
       "    .dataframe tbody tr th:only-of-type {\n",
       "        vertical-align: middle;\n",
       "    }\n",
       "\n",
       "    .dataframe tbody tr th {\n",
       "        vertical-align: top;\n",
       "    }\n",
       "\n",
       "    .dataframe thead th {\n",
       "        text-align: right;\n",
       "    }\n",
       "</style>\n",
       "<table border=\"1\" class=\"dataframe\">\n",
       "  <thead>\n",
       "    <tr style=\"text-align: right;\">\n",
       "      <th></th>\n",
       "      <th>method</th>\n",
       "      <th>beta0_mean</th>\n",
       "      <th>beta0_sd</th>\n",
       "      <th>beta0_MAPE</th>\n",
       "      <th>beta1_mean</th>\n",
       "      <th>beta1_sd</th>\n",
       "      <th>beta1_MAPE</th>\n",
       "      <th>beta2_mean</th>\n",
       "      <th>beta2_sd</th>\n",
       "      <th>beta2_MAPE</th>\n",
       "    </tr>\n",
       "  </thead>\n",
       "  <tbody>\n",
       "    <tr>\n",
       "      <th>0</th>\n",
       "      <td>OLS</td>\n",
       "      <td>2.014487</td>\n",
       "      <td>0.006472</td>\n",
       "      <td>101.448665</td>\n",
       "      <td>0.907965</td>\n",
       "      <td>0.000450</td>\n",
       "      <td>9.203506</td>\n",
       "      <td>0.840405</td>\n",
       "      <td>0.000457</td>\n",
       "      <td>15.959480</td>\n",
       "    </tr>\n",
       "    <tr>\n",
       "      <th>1</th>\n",
       "      <td>DMF</td>\n",
       "      <td>0.911139</td>\n",
       "      <td>0.017491</td>\n",
       "      <td>12.861265</td>\n",
       "      <td>1.011632</td>\n",
       "      <td>0.000606</td>\n",
       "      <td>2.190206</td>\n",
       "      <td>1.004854</td>\n",
       "      <td>0.000700</td>\n",
       "      <td>2.117664</td>\n",
       "    </tr>\n",
       "    <tr>\n",
       "      <th>2</th>\n",
       "      <td>Catboost</td>\n",
       "      <td>0.856633</td>\n",
       "      <td>264.653566</td>\n",
       "      <td>1002.048656</td>\n",
       "      <td>0.997829</td>\n",
       "      <td>0.000623</td>\n",
       "      <td>1.981896</td>\n",
       "      <td>0.985352</td>\n",
       "      <td>0.000718</td>\n",
       "      <td>2.457734</td>\n",
       "    </tr>\n",
       "  </tbody>\n",
       "</table>\n",
       "</div>"
      ],
      "text/plain": [
       "     method  beta0_mean    beta0_sd   beta0_MAPE  beta1_mean  beta1_sd  \\\n",
       "0       OLS    2.014487    0.006472   101.448665    0.907965  0.000450   \n",
       "1       DMF    0.911139    0.017491    12.861265    1.011632  0.000606   \n",
       "2  Catboost    0.856633  264.653566  1002.048656    0.997829  0.000623   \n",
       "\n",
       "   beta1_MAPE  beta2_mean  beta2_sd  beta2_MAPE  \n",
       "0    9.203506    0.840405  0.000457   15.959480  \n",
       "1    2.190206    1.004854  0.000700    2.117664  \n",
       "2    1.981896    0.985352  0.000718    2.457734  "
      ]
     },
     "execution_count": 4,
     "metadata": {},
     "output_type": "execute_result"
    }
   ],
   "source": [
    "np.random.seed(999)\n",
    "\n",
    "run_simulations(n=10000, rho=rho, r=r, betas=betas, gammas=gammas)"
   ]
  },
  {
   "cell_type": "code",
   "execution_count": 5,
   "id": "c7e5a336",
   "metadata": {},
   "outputs": [
    {
     "data": {
      "application/vnd.jupyter.widget-view+json": {
       "model_id": "12723dc537e2432699531893b78d58b2",
       "version_major": 2,
       "version_minor": 0
      },
      "text/plain": [
       "  0%|          | 0/1000 [00:00<?, ?it/s]"
      ]
     },
     "metadata": {},
     "output_type": "display_data"
    },
    {
     "data": {
      "text/html": [
       "<div>\n",
       "<style scoped>\n",
       "    .dataframe tbody tr th:only-of-type {\n",
       "        vertical-align: middle;\n",
       "    }\n",
       "\n",
       "    .dataframe tbody tr th {\n",
       "        vertical-align: top;\n",
       "    }\n",
       "\n",
       "    .dataframe thead th {\n",
       "        text-align: right;\n",
       "    }\n",
       "</style>\n",
       "<table border=\"1\" class=\"dataframe\">\n",
       "  <thead>\n",
       "    <tr style=\"text-align: right;\">\n",
       "      <th></th>\n",
       "      <th>method</th>\n",
       "      <th>beta0_mean</th>\n",
       "      <th>beta0_sd</th>\n",
       "      <th>beta0_MAPE</th>\n",
       "      <th>beta1_mean</th>\n",
       "      <th>beta1_sd</th>\n",
       "      <th>beta1_MAPE</th>\n",
       "      <th>beta2_mean</th>\n",
       "      <th>beta2_sd</th>\n",
       "      <th>beta2_MAPE</th>\n",
       "    </tr>\n",
       "  </thead>\n",
       "  <tbody>\n",
       "    <tr>\n",
       "      <th>0</th>\n",
       "      <td>OLS</td>\n",
       "      <td>2.016939</td>\n",
       "      <td>0.000627</td>\n",
       "      <td>101.693879</td>\n",
       "      <td>0.906097</td>\n",
       "      <td>0.000049</td>\n",
       "      <td>9.390294</td>\n",
       "      <td>0.840929</td>\n",
       "      <td>0.000045</td>\n",
       "      <td>15.907113</td>\n",
       "    </tr>\n",
       "    <tr>\n",
       "      <th>1</th>\n",
       "      <td>DMF</td>\n",
       "      <td>0.906172</td>\n",
       "      <td>0.001718</td>\n",
       "      <td>9.413796</td>\n",
       "      <td>1.010286</td>\n",
       "      <td>0.000068</td>\n",
       "      <td>1.107332</td>\n",
       "      <td>1.006549</td>\n",
       "      <td>0.000073</td>\n",
       "      <td>0.875831</td>\n",
       "    </tr>\n",
       "    <tr>\n",
       "      <th>2</th>\n",
       "      <td>Catboost</td>\n",
       "      <td>-5.500422</td>\n",
       "      <td>72.489761</td>\n",
       "      <td>814.042214</td>\n",
       "      <td>0.995304</td>\n",
       "      <td>0.000071</td>\n",
       "      <td>0.773341</td>\n",
       "      <td>0.991467</td>\n",
       "      <td>0.000081</td>\n",
       "      <td>1.017871</td>\n",
       "    </tr>\n",
       "  </tbody>\n",
       "</table>\n",
       "</div>"
      ],
      "text/plain": [
       "     method  beta0_mean   beta0_sd  beta0_MAPE  beta1_mean  beta1_sd  \\\n",
       "0       OLS    2.016939   0.000627  101.693879    0.906097  0.000049   \n",
       "1       DMF    0.906172   0.001718    9.413796    1.010286  0.000068   \n",
       "2  Catboost   -5.500422  72.489761  814.042214    0.995304  0.000071   \n",
       "\n",
       "   beta1_MAPE  beta2_mean  beta2_sd  beta2_MAPE  \n",
       "0    9.390294    0.840929  0.000045   15.907113  \n",
       "1    1.107332    1.006549  0.000073    0.875831  \n",
       "2    0.773341    0.991467  0.000081    1.017871  "
      ]
     },
     "execution_count": 5,
     "metadata": {},
     "output_type": "execute_result"
    }
   ],
   "source": [
    "np.random.seed(999)\n",
    "\n",
    "run_simulations(n=100000, rho=rho, r=r, betas=betas, gammas=gammas)"
   ]
  },
  {
   "cell_type": "code",
   "execution_count": null,
   "id": "0d83f391",
   "metadata": {},
   "outputs": [],
   "source": []
  },
  {
   "cell_type": "markdown",
   "id": "dc15e281",
   "metadata": {},
   "source": [
    "### II. Более высокие корреляции ошибок"
   ]
  },
  {
   "cell_type": "code",
   "execution_count": 6,
   "id": "cd1d998a",
   "metadata": {},
   "outputs": [],
   "source": [
    "rho = np.array([[1.00,  0.50,  0.60,  0.64 * np.sqrt(32.00)],\n",
    "                [0.50,  1.00,  0.70, -0.24 * np.sqrt(32.00)],\n",
    "                [0.60,  0.70,  1.00,  0.14 * np.sqrt(32.00)],\n",
    "                [0.64 * np.sqrt(32.00), -0.24 * np.sqrt(32.00),  0.14 * np.sqrt(32.00), 32.00]])\n",
    "\n",
    "r = 0.9\n",
    "betas = np.array([1, 1, 1])\n",
    "gammas = np.array([[3.3, 0.0, 0.0], # в оригинале 0.9, но мб надо 3.3\n",
    "                   [1.0, 1.0, 0.0],\n",
    "                   [1.0, 0.0, 1.0]])"
   ]
  },
  {
   "cell_type": "code",
   "execution_count": 7,
   "id": "1fec6f0b",
   "metadata": {},
   "outputs": [
    {
     "data": {
      "application/vnd.jupyter.widget-view+json": {
       "model_id": "9834f4e7ae644eb7ade0bc10a91b5889",
       "version_major": 2,
       "version_minor": 0
      },
      "text/plain": [
       "  0%|          | 0/1000 [00:00<?, ?it/s]"
      ]
     },
     "metadata": {},
     "output_type": "display_data"
    },
    {
     "name": "stderr",
     "output_type": "stream",
     "text": [
      "/Users/markymark/Desktop/Diploma/Benchmark/utils.py:103: RuntimeWarning: invalid value encountered in true_divide\n",
      "  df['lambda3'] = prob_lr[:, 2] * np.log(prob_lr[:, 2]) / (1 - prob_lr[:, 2])\n",
      "/Users/markymark/Desktop/Diploma/Benchmark/utils.py:103: RuntimeWarning: invalid value encountered in true_divide\n",
      "  df['lambda3'] = prob_lr[:, 2] * np.log(prob_lr[:, 2]) / (1 - prob_lr[:, 2])\n"
     ]
    },
    {
     "data": {
      "text/html": [
       "<div>\n",
       "<style scoped>\n",
       "    .dataframe tbody tr th:only-of-type {\n",
       "        vertical-align: middle;\n",
       "    }\n",
       "\n",
       "    .dataframe tbody tr th {\n",
       "        vertical-align: top;\n",
       "    }\n",
       "\n",
       "    .dataframe thead th {\n",
       "        text-align: right;\n",
       "    }\n",
       "</style>\n",
       "<table border=\"1\" class=\"dataframe\">\n",
       "  <thead>\n",
       "    <tr style=\"text-align: right;\">\n",
       "      <th></th>\n",
       "      <th>method</th>\n",
       "      <th>beta0_mean</th>\n",
       "      <th>beta0_sd</th>\n",
       "      <th>beta0_MAPE</th>\n",
       "      <th>beta1_mean</th>\n",
       "      <th>beta1_sd</th>\n",
       "      <th>beta1_MAPE</th>\n",
       "      <th>beta2_mean</th>\n",
       "      <th>beta2_sd</th>\n",
       "      <th>beta2_MAPE</th>\n",
       "    </tr>\n",
       "  </thead>\n",
       "  <tbody>\n",
       "    <tr>\n",
       "      <th>0</th>\n",
       "      <td>OLS</td>\n",
       "      <td>1.998443</td>\n",
       "      <td>0.060075</td>\n",
       "      <td>99.844270</td>\n",
       "      <td>0.911162</td>\n",
       "      <td>0.004704</td>\n",
       "      <td>9.634827</td>\n",
       "      <td>0.839822</td>\n",
       "      <td>0.004448</td>\n",
       "      <td>16.046453</td>\n",
       "    </tr>\n",
       "    <tr>\n",
       "      <th>1</th>\n",
       "      <td>DMF</td>\n",
       "      <td>0.958537</td>\n",
       "      <td>0.124063</td>\n",
       "      <td>28.002029</td>\n",
       "      <td>1.001814</td>\n",
       "      <td>0.005786</td>\n",
       "      <td>6.059851</td>\n",
       "      <td>1.010535</td>\n",
       "      <td>0.006168</td>\n",
       "      <td>6.291612</td>\n",
       "    </tr>\n",
       "    <tr>\n",
       "      <th>2</th>\n",
       "      <td>Catboost</td>\n",
       "      <td>2.869000</td>\n",
       "      <td>5157.858585</td>\n",
       "      <td>1848.328966</td>\n",
       "      <td>0.992898</td>\n",
       "      <td>0.005798</td>\n",
       "      <td>6.054236</td>\n",
       "      <td>0.988116</td>\n",
       "      <td>0.006001</td>\n",
       "      <td>6.273261</td>\n",
       "    </tr>\n",
       "  </tbody>\n",
       "</table>\n",
       "</div>"
      ],
      "text/plain": [
       "     method  beta0_mean     beta0_sd   beta0_MAPE  beta1_mean  beta1_sd  \\\n",
       "0       OLS    1.998443     0.060075    99.844270    0.911162  0.004704   \n",
       "1       DMF    0.958537     0.124063    28.002029    1.001814  0.005786   \n",
       "2  Catboost    2.869000  5157.858585  1848.328966    0.992898  0.005798   \n",
       "\n",
       "   beta1_MAPE  beta2_mean  beta2_sd  beta2_MAPE  \n",
       "0    9.634827    0.839822  0.004448   16.046453  \n",
       "1    6.059851    1.010535  0.006168    6.291612  \n",
       "2    6.054236    0.988116  0.006001    6.273261  "
      ]
     },
     "execution_count": 7,
     "metadata": {},
     "output_type": "execute_result"
    }
   ],
   "source": [
    "np.random.seed(999)\n",
    "\n",
    "run_simulations(n=1000, rho=rho, r=r, betas=betas, gammas=gammas)"
   ]
  },
  {
   "cell_type": "code",
   "execution_count": 8,
   "id": "8a1f853e",
   "metadata": {},
   "outputs": [
    {
     "data": {
      "application/vnd.jupyter.widget-view+json": {
       "model_id": "ded14294d86e45cea37ee0e846a9c925",
       "version_major": 2,
       "version_minor": 0
      },
      "text/plain": [
       "  0%|          | 0/1000 [00:00<?, ?it/s]"
      ]
     },
     "metadata": {},
     "output_type": "display_data"
    },
    {
     "data": {
      "text/html": [
       "<div>\n",
       "<style scoped>\n",
       "    .dataframe tbody tr th:only-of-type {\n",
       "        vertical-align: middle;\n",
       "    }\n",
       "\n",
       "    .dataframe tbody tr th {\n",
       "        vertical-align: top;\n",
       "    }\n",
       "\n",
       "    .dataframe thead th {\n",
       "        text-align: right;\n",
       "    }\n",
       "</style>\n",
       "<table border=\"1\" class=\"dataframe\">\n",
       "  <thead>\n",
       "    <tr style=\"text-align: right;\">\n",
       "      <th></th>\n",
       "      <th>method</th>\n",
       "      <th>beta0_mean</th>\n",
       "      <th>beta0_sd</th>\n",
       "      <th>beta0_MAPE</th>\n",
       "      <th>beta1_mean</th>\n",
       "      <th>beta1_sd</th>\n",
       "      <th>beta1_MAPE</th>\n",
       "      <th>beta2_mean</th>\n",
       "      <th>beta2_sd</th>\n",
       "      <th>beta2_MAPE</th>\n",
       "    </tr>\n",
       "  </thead>\n",
       "  <tbody>\n",
       "    <tr>\n",
       "      <th>0</th>\n",
       "      <td>OLS</td>\n",
       "      <td>2.006145</td>\n",
       "      <td>0.006236</td>\n",
       "      <td>100.614512</td>\n",
       "      <td>0.910124</td>\n",
       "      <td>0.000439</td>\n",
       "      <td>8.987643</td>\n",
       "      <td>0.835821</td>\n",
       "      <td>0.000451</td>\n",
       "      <td>16.417939</td>\n",
       "    </tr>\n",
       "    <tr>\n",
       "      <th>1</th>\n",
       "      <td>DMF</td>\n",
       "      <td>0.960437</td>\n",
       "      <td>0.013077</td>\n",
       "      <td>9.720780</td>\n",
       "      <td>1.002765</td>\n",
       "      <td>0.000559</td>\n",
       "      <td>1.908712</td>\n",
       "      <td>1.005954</td>\n",
       "      <td>0.000599</td>\n",
       "      <td>2.007575</td>\n",
       "    </tr>\n",
       "    <tr>\n",
       "      <th>2</th>\n",
       "      <td>Catboost</td>\n",
       "      <td>-5.868898</td>\n",
       "      <td>570.078445</td>\n",
       "      <td>1629.470328</td>\n",
       "      <td>0.999372</td>\n",
       "      <td>0.000597</td>\n",
       "      <td>1.950965</td>\n",
       "      <td>0.989268</td>\n",
       "      <td>0.000618</td>\n",
       "      <td>2.162357</td>\n",
       "    </tr>\n",
       "  </tbody>\n",
       "</table>\n",
       "</div>"
      ],
      "text/plain": [
       "     method  beta0_mean    beta0_sd   beta0_MAPE  beta1_mean  beta1_sd  \\\n",
       "0       OLS    2.006145    0.006236   100.614512    0.910124  0.000439   \n",
       "1       DMF    0.960437    0.013077     9.720780    1.002765  0.000559   \n",
       "2  Catboost   -5.868898  570.078445  1629.470328    0.999372  0.000597   \n",
       "\n",
       "   beta1_MAPE  beta2_mean  beta2_sd  beta2_MAPE  \n",
       "0    8.987643    0.835821  0.000451   16.417939  \n",
       "1    1.908712    1.005954  0.000599    2.007575  \n",
       "2    1.950965    0.989268  0.000618    2.162357  "
      ]
     },
     "execution_count": 8,
     "metadata": {},
     "output_type": "execute_result"
    }
   ],
   "source": [
    "np.random.seed(999)\n",
    "\n",
    "run_simulations(n=10000, rho=rho, r=r, betas=betas, gammas=gammas)"
   ]
  },
  {
   "cell_type": "code",
   "execution_count": 9,
   "id": "458737b9",
   "metadata": {},
   "outputs": [
    {
     "data": {
      "application/vnd.jupyter.widget-view+json": {
       "model_id": "368cc78b0aa746b5a6cc45086bef6030",
       "version_major": 2,
       "version_minor": 0
      },
      "text/plain": [
       "  0%|          | 0/1000 [00:00<?, ?it/s]"
      ]
     },
     "metadata": {},
     "output_type": "display_data"
    },
    {
     "data": {
      "text/html": [
       "<div>\n",
       "<style scoped>\n",
       "    .dataframe tbody tr th:only-of-type {\n",
       "        vertical-align: middle;\n",
       "    }\n",
       "\n",
       "    .dataframe tbody tr th {\n",
       "        vertical-align: top;\n",
       "    }\n",
       "\n",
       "    .dataframe thead th {\n",
       "        text-align: right;\n",
       "    }\n",
       "</style>\n",
       "<table border=\"1\" class=\"dataframe\">\n",
       "  <thead>\n",
       "    <tr style=\"text-align: right;\">\n",
       "      <th></th>\n",
       "      <th>method</th>\n",
       "      <th>beta0_mean</th>\n",
       "      <th>beta0_sd</th>\n",
       "      <th>beta0_MAPE</th>\n",
       "      <th>beta1_mean</th>\n",
       "      <th>beta1_sd</th>\n",
       "      <th>beta1_MAPE</th>\n",
       "      <th>beta2_mean</th>\n",
       "      <th>beta2_sd</th>\n",
       "      <th>beta2_MAPE</th>\n",
       "    </tr>\n",
       "  </thead>\n",
       "  <tbody>\n",
       "    <tr>\n",
       "      <th>0</th>\n",
       "      <td>OLS</td>\n",
       "      <td>2.007785</td>\n",
       "      <td>0.000650</td>\n",
       "      <td>100.778503</td>\n",
       "      <td>0.908533</td>\n",
       "      <td>0.000049</td>\n",
       "      <td>9.146683</td>\n",
       "      <td>0.836338</td>\n",
       "      <td>0.000044</td>\n",
       "      <td>16.366246</td>\n",
       "    </tr>\n",
       "    <tr>\n",
       "      <th>1</th>\n",
       "      <td>DMF</td>\n",
       "      <td>0.956785</td>\n",
       "      <td>0.001267</td>\n",
       "      <td>4.701736</td>\n",
       "      <td>1.001185</td>\n",
       "      <td>0.000061</td>\n",
       "      <td>0.624299</td>\n",
       "      <td>1.007603</td>\n",
       "      <td>0.000062</td>\n",
       "      <td>0.903057</td>\n",
       "    </tr>\n",
       "    <tr>\n",
       "      <th>2</th>\n",
       "      <td>Catboost</td>\n",
       "      <td>-8.378000</td>\n",
       "      <td>152.315870</td>\n",
       "      <td>1262.338871</td>\n",
       "      <td>0.996358</td>\n",
       "      <td>0.000063</td>\n",
       "      <td>0.696876</td>\n",
       "      <td>0.994975</td>\n",
       "      <td>0.000068</td>\n",
       "      <td>0.774159</td>\n",
       "    </tr>\n",
       "  </tbody>\n",
       "</table>\n",
       "</div>"
      ],
      "text/plain": [
       "     method  beta0_mean    beta0_sd   beta0_MAPE  beta1_mean  beta1_sd  \\\n",
       "0       OLS    2.007785    0.000650   100.778503    0.908533  0.000049   \n",
       "1       DMF    0.956785    0.001267     4.701736    1.001185  0.000061   \n",
       "2  Catboost   -8.378000  152.315870  1262.338871    0.996358  0.000063   \n",
       "\n",
       "   beta1_MAPE  beta2_mean  beta2_sd  beta2_MAPE  \n",
       "0    9.146683    0.836338  0.000044   16.366246  \n",
       "1    0.624299    1.007603  0.000062    0.903057  \n",
       "2    0.696876    0.994975  0.000068    0.774159  "
      ]
     },
     "execution_count": 9,
     "metadata": {},
     "output_type": "execute_result"
    }
   ],
   "source": [
    "np.random.seed(999)\n",
    "\n",
    "run_simulations(n=100000, rho=rho, r=r, betas=betas, gammas=gammas)"
   ]
  },
  {
   "cell_type": "code",
   "execution_count": null,
   "id": "a8270171",
   "metadata": {},
   "outputs": [],
   "source": []
  }
 ],
 "metadata": {
  "kernelspec": {
   "display_name": "Python 3 (ipykernel)",
   "language": "python",
   "name": "python3"
  },
  "language_info": {
   "codemirror_mode": {
    "name": "ipython",
    "version": 3
   },
   "file_extension": ".py",
   "mimetype": "text/x-python",
   "name": "python",
   "nbconvert_exporter": "python",
   "pygments_lexer": "ipython3",
   "version": "3.9.12"
  }
 },
 "nbformat": 4,
 "nbformat_minor": 5
}
