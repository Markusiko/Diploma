{
 "cells": [
  {
   "cell_type": "code",
   "execution_count": 62,
   "id": "2a7db9fa",
   "metadata": {},
   "outputs": [],
   "source": [
    "from utils import *\n",
    "import torch\n",
    "import torch.nn as nn\n",
    "import torch.nn.functional as F\n",
    "import torch.optim as optim\n"
   ]
  },
  {
   "cell_type": "code",
   "execution_count": 6,
   "id": "4f3bcad2",
   "metadata": {},
   "outputs": [],
   "source": [
    "rho = np.array([[1.00,  0.10,  0.45,  0.64 * np.sqrt(32.00)],\n",
    "                [0.10,  1.00, -0.35, -0.24 * np.sqrt(32.00)],\n",
    "                [0.45, -0.35,  1.00,  0.14 * np.sqrt(32.00)],\n",
    "                [0.64 * np.sqrt(32.00), -0.24 * np.sqrt(32.00),  0.14 * np.sqrt(32.00), 32.00]])\n",
    "\n",
    "r = 0.9\n",
    "betas = np.array([1, 1, 1])\n",
    "gammas = np.array([[3.3, 0.0, 0.0], # в оригинале 0.9, но мб надо 3.3\n",
    "                   [1.0, 1.0, 0.0],\n",
    "                   [1.0, 0.0, 1.0]])"
   ]
  },
  {
   "cell_type": "code",
   "execution_count": 21,
   "id": "4b538b58",
   "metadata": {},
   "outputs": [
    {
     "data": {
      "text/html": [
       "<div>\n",
       "<style scoped>\n",
       "    .dataframe tbody tr th:only-of-type {\n",
       "        vertical-align: middle;\n",
       "    }\n",
       "\n",
       "    .dataframe tbody tr th {\n",
       "        vertical-align: top;\n",
       "    }\n",
       "\n",
       "    .dataframe thead th {\n",
       "        text-align: right;\n",
       "    }\n",
       "</style>\n",
       "<table border=\"1\" class=\"dataframe\">\n",
       "  <thead>\n",
       "    <tr style=\"text-align: right;\">\n",
       "      <th></th>\n",
       "      <th>w0</th>\n",
       "      <th>w1</th>\n",
       "      <th>w2</th>\n",
       "      <th>x0</th>\n",
       "      <th>x1</th>\n",
       "      <th>x2</th>\n",
       "      <th>z_star1</th>\n",
       "      <th>z_star2</th>\n",
       "      <th>z_star3</th>\n",
       "      <th>z</th>\n",
       "      <th>y</th>\n",
       "    </tr>\n",
       "  </thead>\n",
       "  <tbody>\n",
       "    <tr>\n",
       "      <th>0</th>\n",
       "      <td>1.0</td>\n",
       "      <td>3.945854</td>\n",
       "      <td>3.023966</td>\n",
       "      <td>1.0</td>\n",
       "      <td>2.106524</td>\n",
       "      <td>5.384220</td>\n",
       "      <td>10.362618</td>\n",
       "      <td>4.944527</td>\n",
       "      <td>1.662203</td>\n",
       "      <td>1.0</td>\n",
       "      <td>7.829563</td>\n",
       "    </tr>\n",
       "    <tr>\n",
       "      <th>1</th>\n",
       "      <td>1.0</td>\n",
       "      <td>3.733443</td>\n",
       "      <td>0.301256</td>\n",
       "      <td>1.0</td>\n",
       "      <td>4.842226</td>\n",
       "      <td>0.143154</td>\n",
       "      <td>9.324524</td>\n",
       "      <td>3.926476</td>\n",
       "      <td>1.012167</td>\n",
       "      <td>1.0</td>\n",
       "      <td>7.274203</td>\n",
       "    </tr>\n",
       "    <tr>\n",
       "      <th>2</th>\n",
       "      <td>1.0</td>\n",
       "      <td>2.468385</td>\n",
       "      <td>4.463601</td>\n",
       "      <td>1.0</td>\n",
       "      <td>3.314473</td>\n",
       "      <td>6.098579</td>\n",
       "      <td>8.721487</td>\n",
       "      <td>3.223663</td>\n",
       "      <td>3.317389</td>\n",
       "      <td>1.0</td>\n",
       "      <td>2.283242</td>\n",
       "    </tr>\n",
       "    <tr>\n",
       "      <th>3</th>\n",
       "      <td>1.0</td>\n",
       "      <td>-1.670901</td>\n",
       "      <td>-1.538022</td>\n",
       "      <td>1.0</td>\n",
       "      <td>0.264831</td>\n",
       "      <td>-1.790422</td>\n",
       "      <td>0.562982</td>\n",
       "      <td>-2.296950</td>\n",
       "      <td>-0.728739</td>\n",
       "      <td>1.0</td>\n",
       "      <td>5.749075</td>\n",
       "    </tr>\n",
       "    <tr>\n",
       "      <th>4</th>\n",
       "      <td>1.0</td>\n",
       "      <td>1.707867</td>\n",
       "      <td>-4.200895</td>\n",
       "      <td>1.0</td>\n",
       "      <td>1.439676</td>\n",
       "      <td>-5.091854</td>\n",
       "      <td>1.480205</td>\n",
       "      <td>3.233472</td>\n",
       "      <td>-5.464949</td>\n",
       "      <td>2.0</td>\n",
       "      <td>NaN</td>\n",
       "    </tr>\n",
       "  </tbody>\n",
       "</table>\n",
       "</div>"
      ],
      "text/plain": [
       "    w0        w1        w2   x0        x1        x2    z_star1   z_star2  \\\n",
       "0  1.0  3.945854  3.023966  1.0  2.106524  5.384220  10.362618  4.944527   \n",
       "1  1.0  3.733443  0.301256  1.0  4.842226  0.143154   9.324524  3.926476   \n",
       "2  1.0  2.468385  4.463601  1.0  3.314473  6.098579   8.721487  3.223663   \n",
       "3  1.0 -1.670901 -1.538022  1.0  0.264831 -1.790422   0.562982 -2.296950   \n",
       "4  1.0  1.707867 -4.200895  1.0  1.439676 -5.091854   1.480205  3.233472   \n",
       "\n",
       "    z_star3    z         y  \n",
       "0  1.662203  1.0  7.829563  \n",
       "1  1.012167  1.0  7.274203  \n",
       "2  3.317389  1.0  2.283242  \n",
       "3 -0.728739  1.0  5.749075  \n",
       "4 -5.464949  2.0       NaN  "
      ]
     },
     "execution_count": 21,
     "metadata": {},
     "output_type": "execute_result"
    }
   ],
   "source": [
    "np.random.seed(999)\n",
    "\n",
    "data = get_benchmark_data(1000, rho, r, betas, gammas)\n",
    "data.head()"
   ]
  },
  {
   "cell_type": "code",
   "execution_count": 74,
   "id": "68dbc3b4",
   "metadata": {},
   "outputs": [],
   "source": [
    "from torch.utils.data import Dataset, DataLoader\n",
    "\n",
    "class CustomDataset(Dataset):\n",
    "    def __init__(self, dataframe):\n",
    "        self.dataframe = dataframe\n",
    "\n",
    "    def __getitem__(self, index):\n",
    "        row = self.dataframe.iloc[index].to_numpy()\n",
    "        features = row[[1, 2, 4, 5]]\n",
    "        label = row[-1]\n",
    "        return features.astype(float), label.astype(float)\n",
    "\n",
    "    def __len__(self):\n",
    "        return len(self.dataframe)\n",
    "\n",
    "df_no_nans = data.dropna()\n",
    "\n",
    "dataset = CustomDataset(dataframe=df_no_nans)\n",
    "dataloader = DataLoader(dataset, batch_size=32)"
   ]
  },
  {
   "cell_type": "code",
   "execution_count": 75,
   "id": "084cf76f",
   "metadata": {},
   "outputs": [
    {
     "name": "stdout",
     "output_type": "stream",
     "text": [
      "tensor([[ 3.9459,  3.0240],\n",
      "        [ 3.7334,  0.3013],\n",
      "        [ 2.4684,  4.4636],\n",
      "        [-1.6709, -1.5380],\n",
      "        [ 1.9291, -0.4015],\n",
      "        [-1.6359,  6.4257],\n",
      "        [-0.1219,  1.8537],\n",
      "        [ 2.1464,  4.8397],\n",
      "        [-0.4758, -2.5274],\n",
      "        [ 4.3659,  2.9539],\n",
      "        [ 1.6330,  5.8968],\n",
      "        [ 7.4397,  9.3662],\n",
      "        [-0.4139,  6.4879],\n",
      "        [ 6.4996,  6.2111],\n",
      "        [ 2.8034, -2.7818],\n",
      "        [-4.0844,  4.6878],\n",
      "        [-0.3246, -0.6593],\n",
      "        [ 4.4508,  3.6893],\n",
      "        [ 3.6451,  4.9506],\n",
      "        [ 0.6681,  3.9657],\n",
      "        [ 1.3052,  0.6435],\n",
      "        [-0.9310, -3.5504],\n",
      "        [-0.3850, -0.7644],\n",
      "        [-0.7269,  1.5168],\n",
      "        [ 0.9661,  3.5564],\n",
      "        [-0.5719,  5.5302],\n",
      "        [-3.0472,  2.6663],\n",
      "        [ 5.2588, -2.7872],\n",
      "        [-1.2293,  1.3259],\n",
      "        [ 3.6585,  0.7180],\n",
      "        [ 3.9786,  2.6729],\n",
      "        [-0.0424, -2.8982]], dtype=torch.float64)\n"
     ]
    }
   ],
   "source": [
    "for i in dataloader:\n",
    "    print(i[0][:, :2])\n",
    "    break"
   ]
  },
  {
   "cell_type": "code",
   "execution_count": 114,
   "id": "a1d69d04",
   "metadata": {},
   "outputs": [],
   "source": [
    "class BASSnet(nn.Module):\n",
    "    def __init__(self, dim_latent=2):\n",
    "        super(BASSnet, self).__init__()\n",
    "        self.fc1 = nn.Linear(2, 32)\n",
    "        self.fc2 = nn.Linear(32, 32)\n",
    "        self.fc3 = nn.Linear(32, dim_latent) # выходное пространство\n",
    "        self.fc4 = nn.Linear(dim_latent+2, 1)\n",
    "  \n",
    "    def forward(self, inputs):\n",
    "        g, x_main = inputs\n",
    "        g = g.to(torch.float32)\n",
    "        x_main = x_main.to(torch.float32)\n",
    "        \n",
    "        g = F.relu(self.fc1(g))\n",
    "        g = F.relu(self.fc2(g))\n",
    "        g = self.fc3(g)\n",
    "        \n",
    "        # конкатенируем с регрессорами основного уравнения\n",
    "        x = torch.cat([g, x_main], dim=1)\n",
    "        x = self.fc4(x)\n",
    "        return x\n",
    "    \n",
    "model = BASSnet()\n",
    "loss_fn = nn.MSELoss() \n",
    "optimizer = optim.Adam(model.parameters(), lr=0.01)"
   ]
  },
  {
   "cell_type": "code",
   "execution_count": 117,
   "id": "99230768",
   "metadata": {},
   "outputs": [
    {
     "data": {
      "application/vnd.jupyter.widget-view+json": {
       "model_id": "b38265497a614749a14912d07d469f32",
       "version_major": 2,
       "version_minor": 0
      },
      "text/plain": [
       "  0%|          | 0/20 [00:00<?, ?it/s]"
      ]
     },
     "metadata": {},
     "output_type": "display_data"
    },
    {
     "name": "stdout",
     "output_type": "stream",
     "text": [
      "Эпоха 0. MSE: 56.382658282521604\n"
     ]
    },
    {
     "data": {
      "application/vnd.jupyter.widget-view+json": {
       "model_id": "c7294d9aaf504dada1cb99e54215ab49",
       "version_major": 2,
       "version_minor": 0
      },
      "text/plain": [
       "  0%|          | 0/20 [00:00<?, ?it/s]"
      ]
     },
     "metadata": {},
     "output_type": "display_data"
    },
    {
     "data": {
      "application/vnd.jupyter.widget-view+json": {
       "model_id": "bc65e014814a471dbe42fc85467723e1",
       "version_major": 2,
       "version_minor": 0
      },
      "text/plain": [
       "  0%|          | 0/20 [00:00<?, ?it/s]"
      ]
     },
     "metadata": {},
     "output_type": "display_data"
    }
   ],
   "source": [
    "from tqdm.auto import tqdm\n",
    "\n",
    "n_epochs = 3\n",
    "# Hold the best model\n",
    "best_mse = np.inf   # init to infinity\n",
    "best_weights = None\n",
    "history = []\n",
    " \n",
    "# training loop\n",
    "for epoch in range(n_epochs):\n",
    "    epoch_history = []\n",
    "    model.train()\n",
    "    for X_batch, y_batch in tqdm(dataloader):\n",
    "        X_selection = X_batch[:, :2]\n",
    "        X_main = X_batch[:, 2:]\n",
    "\n",
    "        y_pred = model((X_selection, X_main)).to(torch.float64)\n",
    "        loss = loss_fn(y_pred, y_batch)\n",
    "        optimizer.zero_grad()\n",
    "        loss.backward()\n",
    "        optimizer.step()\n",
    "        epoch_history.append(loss.detach().numpy())\n",
    "    if epoch % 10 == 0:\n",
    "        print(f'Эпоха {epoch}. MSE:', np.mean(epoch_history))\n",
    "        \n",
    "#     # evaluate accuracy at end of each epoch\n",
    "#     model.eval()\n",
    "#     y_pred = model(X_test)\n",
    "#     mse = loss_fn(y_pred, y_test)\n",
    "#     mse = float(mse)\n",
    "#     history.append(mse)\n",
    "#     if mse < best_mse:\n",
    "#         best_mse = mse\n",
    "#         best_weights = copy.deepcopy(model.state_dict())\n",
    " \n",
    "# # restore model and return best accuracy\n",
    "# model.load_state_dict(best_weights)"
   ]
  },
  {
   "cell_type": "code",
   "execution_count": 118,
   "id": "d424c9f0",
   "metadata": {},
   "outputs": [
    {
     "data": {
      "text/plain": [
       "Parameter containing:\n",
       "tensor([[-0.4348,  0.0874, -0.2030, -0.1677]], requires_grad=True)"
      ]
     },
     "execution_count": 118,
     "metadata": {},
     "output_type": "execute_result"
    }
   ],
   "source": [
    "model.fc4.weight"
   ]
  },
  {
   "cell_type": "code",
   "execution_count": null,
   "id": "bd2d48d3",
   "metadata": {},
   "outputs": [],
   "source": []
  },
  {
   "cell_type": "code",
   "execution_count": null,
   "id": "58b6ab61",
   "metadata": {},
   "outputs": [],
   "source": []
  },
  {
   "cell_type": "code",
   "execution_count": 58,
   "id": "a383ba0f",
   "metadata": {},
   "outputs": [
    {
     "data": {
      "text/plain": [
       "BASSnet(\n",
       "  (fc1): Linear(in_features=3, out_features=32, bias=True)\n",
       "  (fc2): Linear(in_features=32, out_features=10, bias=True)\n",
       "  (fc3): Linear(in_features=12, out_features=1, bias=True)\n",
       ")"
      ]
     },
     "execution_count": 58,
     "metadata": {},
     "output_type": "execute_result"
    }
   ],
   "source": [
    "class BASSnet(nn.Module):\n",
    "    def __init__(self, dim_latent=10, ):\n",
    "        super(BASSnet, self).__init__()\n",
    "        self.fc1 = nn.Linear(3, 32)\n",
    "        self.fc2 = nn.Linear(32, dim_latent) # выходное пространство\n",
    "        self.fc3 = nn.Linear(dim_latent+2, 1)\n",
    "  \n",
    "    def forward(self, inputs):\n",
    "        g, x_main = inputs\n",
    "        g = F.relu(self.fc1(g))\n",
    "        g = F.relu(self.fc2(g))\n",
    "#         x = torch.flatten(g, 1) \n",
    "\n",
    "        # конкатенируем с регрессорами основного уравнения\n",
    "        x = torch.cat([g, x_main], dim=1)\n",
    "        x = self.fc3(x)\n",
    "        return x\n",
    "    \n",
    "    \n",
    "bassnet = BASSnet()\n",
    "bassnet"
   ]
  },
  {
   "cell_type": "code",
   "execution_count": null,
   "id": "31cdd353",
   "metadata": {},
   "outputs": [],
   "source": []
  },
  {
   "cell_type": "code",
   "execution_count": null,
   "id": "1e757816",
   "metadata": {},
   "outputs": [],
   "source": []
  },
  {
   "cell_type": "code",
   "execution_count": null,
   "id": "9e62f18d",
   "metadata": {},
   "outputs": [],
   "source": []
  },
  {
   "cell_type": "code",
   "execution_count": null,
   "id": "0f077cae",
   "metadata": {},
   "outputs": [],
   "source": []
  }
 ],
 "metadata": {
  "kernelspec": {
   "display_name": "Python 3 (ipykernel)",
   "language": "python",
   "name": "python3"
  },
  "language_info": {
   "codemirror_mode": {
    "name": "ipython",
    "version": 3
   },
   "file_extension": ".py",
   "mimetype": "text/x-python",
   "name": "python",
   "nbconvert_exporter": "python",
   "pygments_lexer": "ipython3",
   "version": "3.9.12"
  }
 },
 "nbformat": 4,
 "nbformat_minor": 5
}
