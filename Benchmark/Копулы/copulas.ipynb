{
 "cells": [
  {
   "cell_type": "code",
   "execution_count": 2,
   "id": "fe0fadf8",
   "metadata": {},
   "outputs": [
    {
     "data": {
      "image/png": "[encoded data removed]",
      "text/plain": [
       "<Figure size 432x288 with 1 Axes>"
      ]
     },
     "metadata": {
      "needs_background": "light"
     },
     "output_type": "display_data"
    }
   ],
   "source": [
    "import numpy as np\n",
    "import matplotlib.pyplot as plt\n",
    "from scipy.stats import multivariate_normal as mnorm\n",
    "from scipy.stats import norm, t, expon\n",
    "\n",
    "n = 10000\n",
    "\n",
    "# Симулируем выборку из многомерного нормального\n",
    "# стандартизирвав ковариационную матрицу\n",
    "sigma = np.array([[1, 0.3, -0.2],\n",
    "                  [0.3, 1, 0.25],\n",
    "                  [-0.2, 0.25, 1]])\n",
    "u = mnorm.rvs(mean=[0, 0, 0], cov=sigma, size=n)\n",
    "x = norm.cdf(u)\n",
    "\n",
    "# Задаем маржинальные распределения каждой компоненте\n",
    "x_copula = x.copy()\n",
    "x_copula[:, 0] = expon.ppf(x[:, 0]) # экспоненциальное\n",
    "x_copula[:, 1] = t.ppf(x[:, 1], df=5) # Стьюдент\n",
    "x_copula[:, 2] = t.ppf(x[:, 2], df=5) * np.sqrt((5 - 2) / 5) # стандартизированный Стьюдент\n",
    "\n",
    "# Убеждаемся в верной форме маржинального распределения\n",
    "# за счет графического анализа\n",
    "plt.hist(x_copula[:, 0], density=True, bins=20);"
   ]
  },
  {
   "cell_type": "code",
   "execution_count": null,
   "id": "b8100186",
   "metadata": {},
   "outputs": [],
   "source": []
  }
 ],
 "metadata": {
  "kernelspec": {
   "display_name": "Python 3 (ipykernel)",
   "language": "python",
   "name": "python3"
  },
  "language_info": {
   "codemirror_mode": {
    "name": "ipython",
    "version": 3
   },
   "file_extension": ".py",
   "mimetype": "text/x-python",
   "name": "python",
   "nbconvert_exporter": "python",
   "pygments_lexer": "ipython3",
   "version": "3.9.12"
  }
 },
 "nbformat": 4,
 "nbformat_minor": 5
}
