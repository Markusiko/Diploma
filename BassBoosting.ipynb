{
 "cells": [
  {
   "cell_type": "code",
   "execution_count": 60,
   "id": "2eca1d71",
   "metadata": {},
   "outputs": [],
   "source": [
    "import numpy as np\n",
    "from sklearn.linear_model import LinearRegression\n",
    "from sklearn.tree import DecisionTreeRegressor\n",
    "from copy import copy"
   ]
  },
  {
   "cell_type": "code",
   "execution_count": 107,
   "id": "1fc1beb0",
   "metadata": {},
   "outputs": [],
   "source": [
    "class BassBoost():\n",
    "    \n",
    "    def __init__(self, max_depth, max_iter=5):\n",
    "        self.trees = []\n",
    "        self.max_depth = max_depth\n",
    "        self.max_iter = max_iter\n",
    "        \n",
    "    def bias_pred(self, X, y):\n",
    "        pred = np.zeros(X.shape[0])\n",
    "        \n",
    "        for tree in range(len(self.trees)):\n",
    "            pred += tree.predict(X)\n",
    "        \n",
    "        return pred\n",
    "    \n",
    "    def _calc_grad(self, y, pred):\n",
    "        return 2 * (pred - y)\n",
    "        \n",
    "         \n",
    "    def fit(self, X_index, X_bias, y):\n",
    "        target = y.copy()\n",
    "        \n",
    "        for i in range(self.max_iter):\n",
    "            linear = LinearRegression().fit(X_index, target)\n",
    "            self.betas = linear.coef_\n",
    "            self.intercept = linear.intercept_\n",
    "            \n",
    "            grads = self._calc_grad(y, X_index @ self.betas + self.intercept)\n",
    "            \n",
    "            tree = DecisionTreeRegressor(max_depth=self.max_depth, random_state=999).fit(X_bias, grads)\n",
    "            self.trees.append(copy(tree))\n",
    "            target -= tree.predict(X_bias)\n",
    "            \n",
    "        return target\n",
    "        \n",
    "    def predict(self, X, y, decompose=False):\n",
    "        \n",
    "        pass\n",
    "        "
   ]
  },
  {
   "cell_type": "code",
   "execution_count": 108,
   "id": "8e79c006",
   "metadata": {},
   "outputs": [],
   "source": [
    "from sklearn.datasets import make_regression\n",
    "\n",
    "X, y, coef = make_regression(n_samples=100, n_features=4, n_informative=10,\n",
    "                             coef=True, random_state=999, noise=30, bias=1)"
   ]
  },
  {
   "cell_type": "code",
   "execution_count": 109,
   "id": "c265e7ef",
   "metadata": {},
   "outputs": [
    {
     "data": {
      "text/plain": [
       "array([57.78162828, 22.70630251, 32.46204896,  3.1093743 ])"
      ]
     },
     "execution_count": 109,
     "metadata": {},
     "output_type": "execute_result"
    }
   ],
   "source": [
    "coef"
   ]
  },
  {
   "cell_type": "code",
   "execution_count": 110,
   "id": "09975132",
   "metadata": {},
   "outputs": [
    {
     "data": {
      "text/plain": [
       "array([57.06746369, 21.24365103, 33.42935924,  4.0208379 ])"
      ]
     },
     "execution_count": 110,
     "metadata": {},
     "output_type": "execute_result"
    }
   ],
   "source": [
    "LinearRegression().fit(X, y).coef_"
   ]
  },
  {
   "cell_type": "code",
   "execution_count": 111,
   "id": "0b84181b",
   "metadata": {},
   "outputs": [
    {
     "data": {
      "text/plain": [
       "array([ 2677.22337433,   862.50699483,  -209.36131819,   -91.87127577,\n",
       "         232.10844751,  -643.00780146,   303.22504785,   -53.78735921,\n",
       "        -103.29046987,    -4.03622718,  1079.00482932,  -582.16491057,\n",
       "         -57.41699203,  -640.52757669,  -633.07896622,   -67.45507388,\n",
       "        1028.05448551,   314.26191751,  -450.5304201 ,  -556.91775608,\n",
       "         -62.53113074,  2866.51014645,   281.54712505,   232.91010889,\n",
       "         330.8646427 ,  -384.17615709,  1042.00206745,  -885.68165125,\n",
       "       -1094.00670548,  -424.56569872,  -128.39774285,  -875.80336156,\n",
       "         391.69853959,    91.10317621,   298.31079872,  -317.54679376,\n",
       "        -474.34456342,   268.87869301,  -439.40109318,  -528.86411997,\n",
       "        -379.5060661 ,  -680.10014353,  -524.41034216,  2644.4377554 ,\n",
       "        -587.59831668,  -693.52477781,  1117.72623086,  -567.29017781,\n",
       "         120.94978409,  1060.50976809,   349.08761814,  -517.00654136,\n",
       "        -525.17341726,  -420.7563865 ,   296.70875342,   -54.3707912 ,\n",
       "        -961.25795029,  -966.44251049,   262.80490645,  -711.24210744,\n",
       "        -581.96661224, -1087.15068053,   -17.60879933,  -621.64708127,\n",
       "         346.18666233,  -620.02840094,   989.3549076 ,  -540.22046254,\n",
       "        -579.80984751,  -467.53330768,   322.20921211,   110.88620025,\n",
       "         312.27929211,  -897.43920247,   202.65576757,  -546.45263942,\n",
       "        -910.01355777,   787.43326585,  -902.08862095,  -540.8312767 ,\n",
       "        1015.48708641,   222.869377  ,   -94.59861105,  -921.85983163,\n",
       "         906.71200145,  -536.9647704 ,  1064.92584539,   213.43838828,\n",
       "         261.40783953,   785.45183611,    87.11979899,   997.81017767,\n",
       "         297.93174265,  -211.18845786,  -605.27235694,  -394.84643165,\n",
       "         444.85068765,  -898.08886908,   994.72958275,  -104.45348195])"
      ]
     },
     "execution_count": 111,
     "metadata": {},
     "output_type": "execute_result"
    }
   ],
   "source": [
    "Bass = BassBoost(max_depth=3, max_iter=30)\n",
    "\n",
    "Bass.fit(X[:, :-1], X[:, -1:].reshape(-1, 1), y)"
   ]
  },
  {
   "cell_type": "code",
   "execution_count": 112,
   "id": "40747320",
   "metadata": {},
   "outputs": [
    {
     "data": {
      "text/plain": [
       "array([57.36563229, 21.86987763, 28.69370901])"
      ]
     },
     "execution_count": 112,
     "metadata": {},
     "output_type": "execute_result"
    }
   ],
   "source": [
    "Bass.betas"
   ]
  },
  {
   "cell_type": "code",
   "execution_count": 113,
   "id": "be830ffd",
   "metadata": {},
   "outputs": [
    {
     "data": {
      "text/plain": [
       "array([57.06746369, 21.24365103, 33.42935924,  4.0208379 ])"
      ]
     },
     "execution_count": 113,
     "metadata": {},
     "output_type": "execute_result"
    }
   ],
   "source": [
    "LinearRegression().fit(X, y).coef_\n"
   ]
  },
  {
   "cell_type": "code",
   "execution_count": null,
   "id": "19312590",
   "metadata": {},
   "outputs": [],
   "source": []
  }
 ],
 "metadata": {
  "kernelspec": {
   "display_name": "Python 3 (ipykernel)",
   "language": "python",
   "name": "python3"
  },
  "language_info": {
   "codemirror_mode": {
    "name": "ipython",
    "version": 3
   },
   "file_extension": ".py",
   "mimetype": "text/x-python",
   "name": "python",
   "nbconvert_exporter": "python",
   "pygments_lexer": "ipython3",
   "version": "3.9.12"
  }
 },
 "nbformat": 4,
 "nbformat_minor": 5
}
