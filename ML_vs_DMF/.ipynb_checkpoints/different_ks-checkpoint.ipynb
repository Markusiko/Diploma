{
 "cells": [
  {
   "cell_type": "markdown",
   "id": "e985b122",
   "metadata": {},
   "source": [
    "# Использование бустинга в DMF. Оптимальная степень полинома"
   ]
  },
  {
   "cell_type": "code",
   "execution_count": 1,
   "id": "bbca1085",
   "metadata": {},
   "outputs": [],
   "source": [
    "import numpy as np\n",
    "from copy import copy\n",
    "import pandas as pd\n",
    "from tqdm.auto import tqdm\n",
    "\n",
    "from scipy.integrate import quad\n",
    "from scipy.stats import genextreme\n",
    "\n",
    "from statsmodels.discrete.discrete_model import MNLogit\n",
    "from sklearn.linear_model import LinearRegression, LogisticRegression\n",
    "from sklearn.tree import DecisionTreeRegressor\n",
    "from sklearn.svm import LinearSVR\n",
    "from statsmodels.regression.linear_model import OLS\n",
    "from sklearn.neighbors import KNeighborsRegressor\n",
    "\n",
    "from catboost import CatBoostClassifier\n",
    "\n",
    "from sklearn.model_selection import cross_validate, LeaveOneOut, KFold\n",
    "from sklearn.metrics import roc_auc_score, accuracy_score\n",
    "\n",
    "from IPython.display import clear_output\n",
    "import matplotlib.pyplot as plt \n",
    "\n",
    "%matplotlib inline\n",
    "%config InlineBackend.figure_format = 'retina'\n",
    "plt.rcParams['figure.figsize'] = 12, 8\n",
    "\n",
    "import warnings\n",
    "warnings.filterwarnings('ignore')"
   ]
  },
  {
   "cell_type": "markdown",
   "id": "86d210e7",
   "metadata": {},
   "source": [
    "## Подготовка"
   ]
  },
  {
   "cell_type": "code",
   "execution_count": 2,
   "id": "98aea1ef",
   "metadata": {},
   "outputs": [],
   "source": [
    "beta_spend = np.array([1, 0.1, 0.0001, 1])\n",
    "betas = np.array([[0.1, 0.000025, 0.3, 0.01],\n",
    "                  [0.2, 0.000015, 0.2, 0.015],\n",
    "                  [3, -0.00002, 0.5, -0.02]])"
   ]
  },
  {
   "cell_type": "code",
   "execution_count": 3,
   "id": "8430a43e",
   "metadata": {},
   "outputs": [],
   "source": [
    "def generate_sample(n, betas=betas, beta_spend=beta_spend, verbose=False):\n",
    "    \n",
    "    ### Регрессоры\n",
    "    x0 = np.ones(shape=n)\n",
    "    x1 = np.exp(np.random.normal(loc=10, scale=0.7, size=n))\n",
    "    x2 = np.random.poisson(lam=3, size=n)\n",
    "    x2[x2 > 5] = 5\n",
    "    x3 = np.round(np.random.uniform(low=20, high=100, size=n))\n",
    "    x4 = np.random.poisson(lam=3, size=n)\n",
    "    x4[x4 > 5] = 5\n",
    "    df = pd.DataFrame(zip(x0, x1, x2, x3, x4),\n",
    "                      columns=['const', 'income', 'health', 'age', 'drive'])\n",
    "    \n",
    "    ### Линейные индексы\n",
    "    eps = genextreme.rvs(c=0, size=(n, 3))\n",
    "    y_li = df[['const', 'income', 'health', 'age']] @ betas.T\n",
    "    df[['y_star_Car', 'y_star_Taxi', 'y_star_Public']] = y_li + eps\n",
    "    df['transport'] = np.argmax(np.array(df[['y_star_Car', 'y_star_Taxi', 'y_star_Public']]), axis=1)\n",
    "\n",
    "    if verbose:\n",
    "        print(df.transport.value_counts())\n",
    "    \n",
    "    ### Расходы\n",
    "    rho = np.array([0.64, -0.25, 0.14])\n",
    "    mevd, __ = quad(lambda x: genextreme.pdf(x, c=0) * x, -100, 100)\n",
    "    m2evd, __ = quad(lambda x: genextreme.pdf(x, c=0) * x ** 2, -100, 100)\n",
    "    vevd = m2evd - mevd ** 2\n",
    "    vevd_rho = np.sum(vevd * rho ** 2)\n",
    "    adj = np.sqrt(6) / np.pi\n",
    "    sigma = 4\n",
    "    \n",
    "    eps_spend = sigma * adj * (eps - mevd) @ rho + \\\n",
    "                np.random.normal(size=n, loc=0, scale=np.sqrt(sigma ** 2 - (sigma * adj * np.sqrt(vevd_rho) ** 2)))\n",
    "\n",
    "    spend_li = df[['const', 'age', 'income', 'drive']] @ beta_spend.T\n",
    "    df['spend'] = spend_li + eps_spend\n",
    "    \n",
    "    df.loc[df['transport'] != 0, 'spend'] = np.nan\n",
    "    \n",
    "    return df"
   ]
  },
  {
   "cell_type": "code",
   "execution_count": 4,
   "id": "4cbd5267",
   "metadata": {},
   "outputs": [
    {
     "name": "stdout",
     "output_type": "stream",
     "text": [
      "2    481\n",
      "0    289\n",
      "1    230\n",
      "Name: transport, dtype: int64\n"
     ]
    },
    {
     "data": {
      "text/html": [
       "<div>\n",
       "<style scoped>\n",
       "    .dataframe tbody tr th:only-of-type {\n",
       "        vertical-align: middle;\n",
       "    }\n",
       "\n",
       "    .dataframe tbody tr th {\n",
       "        vertical-align: top;\n",
       "    }\n",
       "\n",
       "    .dataframe thead th {\n",
       "        text-align: right;\n",
       "    }\n",
       "</style>\n",
       "<table border=\"1\" class=\"dataframe\">\n",
       "  <thead>\n",
       "    <tr style=\"text-align: right;\">\n",
       "      <th></th>\n",
       "      <th>const</th>\n",
       "      <th>income</th>\n",
       "      <th>health</th>\n",
       "      <th>age</th>\n",
       "      <th>drive</th>\n",
       "      <th>y_star_Car</th>\n",
       "      <th>y_star_Taxi</th>\n",
       "      <th>y_star_Public</th>\n",
       "      <th>transport</th>\n",
       "      <th>spend</th>\n",
       "    </tr>\n",
       "  </thead>\n",
       "  <tbody>\n",
       "    <tr>\n",
       "      <th>0</th>\n",
       "      <td>1.0</td>\n",
       "      <td>22820.013044</td>\n",
       "      <td>3</td>\n",
       "      <td>32.0</td>\n",
       "      <td>4</td>\n",
       "      <td>4.662237</td>\n",
       "      <td>2.942691</td>\n",
       "      <td>6.678108</td>\n",
       "      <td>2</td>\n",
       "      <td>NaN</td>\n",
       "    </tr>\n",
       "    <tr>\n",
       "      <th>1</th>\n",
       "      <td>1.0</td>\n",
       "      <td>31255.978012</td>\n",
       "      <td>3</td>\n",
       "      <td>45.0</td>\n",
       "      <td>0</td>\n",
       "      <td>2.116802</td>\n",
       "      <td>5.361839</td>\n",
       "      <td>2.351739</td>\n",
       "      <td>1</td>\n",
       "      <td>NaN</td>\n",
       "    </tr>\n",
       "    <tr>\n",
       "      <th>2</th>\n",
       "      <td>1.0</td>\n",
       "      <td>10969.387836</td>\n",
       "      <td>5</td>\n",
       "      <td>68.0</td>\n",
       "      <td>3</td>\n",
       "      <td>2.718885</td>\n",
       "      <td>2.887521</td>\n",
       "      <td>3.999501</td>\n",
       "      <td>2</td>\n",
       "      <td>NaN</td>\n",
       "    </tr>\n",
       "    <tr>\n",
       "      <th>3</th>\n",
       "      <td>1.0</td>\n",
       "      <td>35793.405654</td>\n",
       "      <td>2</td>\n",
       "      <td>21.0</td>\n",
       "      <td>5</td>\n",
       "      <td>2.158243</td>\n",
       "      <td>2.879407</td>\n",
       "      <td>4.122440</td>\n",
       "      <td>2</td>\n",
       "      <td>NaN</td>\n",
       "    </tr>\n",
       "    <tr>\n",
       "      <th>4</th>\n",
       "      <td>1.0</td>\n",
       "      <td>16435.336097</td>\n",
       "      <td>3</td>\n",
       "      <td>51.0</td>\n",
       "      <td>3</td>\n",
       "      <td>2.464228</td>\n",
       "      <td>1.464279</td>\n",
       "      <td>3.759046</td>\n",
       "      <td>2</td>\n",
       "      <td>NaN</td>\n",
       "    </tr>\n",
       "  </tbody>\n",
       "</table>\n",
       "</div>"
      ],
      "text/plain": [
       "   const        income  health   age  drive  y_star_Car  y_star_Taxi  \\\n",
       "0    1.0  22820.013044       3  32.0      4    4.662237     2.942691   \n",
       "1    1.0  31255.978012       3  45.0      0    2.116802     5.361839   \n",
       "2    1.0  10969.387836       5  68.0      3    2.718885     2.887521   \n",
       "3    1.0  35793.405654       2  21.0      5    2.158243     2.879407   \n",
       "4    1.0  16435.336097       3  51.0      3    2.464228     1.464279   \n",
       "\n",
       "   y_star_Public  transport  spend  \n",
       "0       6.678108          2    NaN  \n",
       "1       2.351739          1    NaN  \n",
       "2       3.999501          2    NaN  \n",
       "3       4.122440          2    NaN  \n",
       "4       3.759046          2    NaN  "
      ]
     },
     "execution_count": 4,
     "metadata": {},
     "output_type": "execute_result"
    }
   ],
   "source": [
    "np.random.seed(4)\n",
    "\n",
    "df = generate_sample(1000, verbose=True)\n",
    "df.head()"
   ]
  },
  {
   "cell_type": "code",
   "execution_count": 5,
   "id": "2c4abf5d",
   "metadata": {},
   "outputs": [],
   "source": [
    "X, y = df[['const', 'income', 'health', 'age']], df['transport']\n",
    "all_coefs = []\n",
    "        \n",
    "## Обычная линейная регрессия\n",
    "df_no_nans = df.dropna()\n",
    "X_spend = df_no_nans[['age', 'income', 'drive']]\n",
    "y_spend = df_no_nans['spend']\n",
    "lm = LinearRegression().fit(X_spend, y_spend)\n",
    "all_coefs.append(['МНК', lm.intercept_] + list(lm.coef_))"
   ]
  },
  {
   "cell_type": "code",
   "execution_count": 6,
   "id": "90ddef3b",
   "metadata": {},
   "outputs": [
    {
     "name": "stdout",
     "output_type": "stream",
     "text": [
      "Optimization terminated successfully.\n",
      "         Current function value: 0.935559\n",
      "         Iterations 6\n"
     ]
    }
   ],
   "source": [
    "# # LogReg sklearn\n",
    "# lr = LogisticRegression(penalty='none', fit_intercept=False, multi_class='multinomial').fit(X, y)\n",
    "# prob = lr.predict_proba(X)\n",
    "\n",
    "# MNLogit statsmodels\n",
    "lr = MNLogit(y, X).fit(method='newton', maxiter=10000)\n",
    "prob = lr.predict()\n",
    "\n",
    "## Лямбды\n",
    "df['lambda1'] = -np.log(prob[:, 0])\n",
    "df['lambda2'] = prob[:, 1] * np.log(prob[:, 1]) / (1 - prob[:, 1])\n",
    "df['lambda3'] = prob[:, 2] * np.log(prob[:, 2]) / (1 - prob[:, 2])\n",
    "\n",
    "df_no_nans = df.dropna()\n",
    "X_spend = df_no_nans[['age', 'income', 'drive']]\n",
    "y_spend = df_no_nans['spend']\n",
    "\n",
    "## Линейная модель\n",
    "dmf = LinearRegression().fit(df_no_nans[['age', 'income', 'drive', \n",
    "                                         'lambda1', 'lambda2', 'lambda3']], y_spend)\n",
    "all_coefs.append(['Дурбин-МакФадден', dmf.intercept_] + list(dmf.coef_[:3]))"
   ]
  },
  {
   "cell_type": "code",
   "execution_count": 7,
   "id": "3ba822f8",
   "metadata": {},
   "outputs": [
    {
     "data": {
      "text/html": [
       "<table class=\"simpletable\">\n",
       "<caption>MNLogit Regression Results</caption>\n",
       "<tr>\n",
       "  <th>Dep. Variable:</th>       <td>transport</td>    <th>  No. Observations:  </th>  <td>  1000</td>  \n",
       "</tr>\n",
       "<tr>\n",
       "  <th>Model:</th>                <td>MNLogit</td>     <th>  Df Residuals:      </th>  <td>   992</td>  \n",
       "</tr>\n",
       "<tr>\n",
       "  <th>Method:</th>                 <td>MLE</td>       <th>  Df Model:          </th>  <td>     6</td>  \n",
       "</tr>\n",
       "<tr>\n",
       "  <th>Date:</th>            <td>Sun, 05 Feb 2023</td> <th>  Pseudo R-squ.:     </th>  <td>0.1080</td>  \n",
       "</tr>\n",
       "<tr>\n",
       "  <th>Time:</th>                <td>13:41:08</td>     <th>  Log-Likelihood:    </th> <td> -935.56</td> \n",
       "</tr>\n",
       "<tr>\n",
       "  <th>converged:</th>             <td>True</td>       <th>  LL-Null:           </th> <td> -1048.8</td> \n",
       "</tr>\n",
       "<tr>\n",
       "  <th>Covariance Type:</th>     <td>nonrobust</td>    <th>  LLR p-value:       </th> <td>4.280e-46</td>\n",
       "</tr>\n",
       "</table>\n",
       "<table class=\"simpletable\">\n",
       "<tr>\n",
       "  <th>transport=1</th>    <th>coef</th>     <th>std err</th>      <th>z</th>      <th>P>|z|</th>  <th>[0.025</th>    <th>0.975]</th>  \n",
       "</tr>\n",
       "<tr>\n",
       "  <th>const</th>       <td>   -0.1151</td> <td>    0.343</td> <td>   -0.336</td> <td> 0.737</td> <td>   -0.786</td> <td>    0.556</td>\n",
       "</tr>\n",
       "<tr>\n",
       "  <th>income</th>      <td> -5.01e-06</td> <td> 3.68e-06</td> <td>   -1.361</td> <td> 0.173</td> <td>-1.22e-05</td> <td>  2.2e-06</td>\n",
       "</tr>\n",
       "<tr>\n",
       "  <th>health</th>      <td>   -0.1007</td> <td>    0.062</td> <td>   -1.629</td> <td> 0.103</td> <td>   -0.222</td> <td>    0.020</td>\n",
       "</tr>\n",
       "<tr>\n",
       "  <th>age</th>         <td>    0.0049</td> <td>    0.004</td> <td>    1.244</td> <td> 0.214</td> <td>   -0.003</td> <td>    0.013</td>\n",
       "</tr>\n",
       "<tr>\n",
       "  <th>transport=2</th>    <th>coef</th>     <th>std err</th>      <th>z</th>      <th>P>|z|</th>  <th>[0.025</th>    <th>0.975]</th>  \n",
       "</tr>\n",
       "<tr>\n",
       "  <th>const</th>       <td>    2.5704</td> <td>    0.306</td> <td>    8.402</td> <td> 0.000</td> <td>    1.971</td> <td>    3.170</td>\n",
       "</tr>\n",
       "<tr>\n",
       "  <th>income</th>      <td>-4.657e-05</td> <td> 5.05e-06</td> <td>   -9.224</td> <td> 0.000</td> <td>-5.65e-05</td> <td>-3.67e-05</td>\n",
       "</tr>\n",
       "<tr>\n",
       "  <th>health</th>      <td>    0.2171</td> <td>    0.056</td> <td>    3.843</td> <td> 0.000</td> <td>    0.106</td> <td>    0.328</td>\n",
       "</tr>\n",
       "<tr>\n",
       "  <th>age</th>         <td>   -0.0240</td> <td>    0.004</td> <td>   -6.734</td> <td> 0.000</td> <td>   -0.031</td> <td>   -0.017</td>\n",
       "</tr>\n",
       "</table>"
      ],
      "text/plain": [
       "<class 'statsmodels.iolib.summary.Summary'>\n",
       "\"\"\"\n",
       "                          MNLogit Regression Results                          \n",
       "==============================================================================\n",
       "Dep. Variable:              transport   No. Observations:                 1000\n",
       "Model:                        MNLogit   Df Residuals:                      992\n",
       "Method:                           MLE   Df Model:                            6\n",
       "Date:                Sun, 05 Feb 2023   Pseudo R-squ.:                  0.1080\n",
       "Time:                        13:41:08   Log-Likelihood:                -935.56\n",
       "converged:                       True   LL-Null:                       -1048.8\n",
       "Covariance Type:            nonrobust   LLR p-value:                 4.280e-46\n",
       "===============================================================================\n",
       "transport=1       coef    std err          z      P>|z|      [0.025      0.975]\n",
       "-------------------------------------------------------------------------------\n",
       "const          -0.1151      0.343     -0.336      0.737      -0.786       0.556\n",
       "income       -5.01e-06   3.68e-06     -1.361      0.173   -1.22e-05     2.2e-06\n",
       "health         -0.1007      0.062     -1.629      0.103      -0.222       0.020\n",
       "age             0.0049      0.004      1.244      0.214      -0.003       0.013\n",
       "-------------------------------------------------------------------------------\n",
       "transport=2       coef    std err          z      P>|z|      [0.025      0.975]\n",
       "-------------------------------------------------------------------------------\n",
       "const           2.5704      0.306      8.402      0.000       1.971       3.170\n",
       "income      -4.657e-05   5.05e-06     -9.224      0.000   -5.65e-05   -3.67e-05\n",
       "health          0.2171      0.056      3.843      0.000       0.106       0.328\n",
       "age            -0.0240      0.004     -6.734      0.000      -0.031      -0.017\n",
       "===============================================================================\n",
       "\"\"\""
      ]
     },
     "execution_count": 7,
     "metadata": {},
     "output_type": "execute_result"
    }
   ],
   "source": [
    "lr.summary()"
   ]
  },
  {
   "cell_type": "code",
   "execution_count": 8,
   "id": "67b5fffb",
   "metadata": {},
   "outputs": [
    {
     "data": {
      "text/html": [
       "<table class=\"simpletable\">\n",
       "<caption>OLS Regression Results</caption>\n",
       "<tr>\n",
       "  <th>Dep. Variable:</th>          <td>spend</td>      <th>  R-squared (uncentered):</th>      <td>   0.925</td> \n",
       "</tr>\n",
       "<tr>\n",
       "  <th>Model:</th>                   <td>OLS</td>       <th>  Adj. R-squared (uncentered):</th> <td>   0.923</td> \n",
       "</tr>\n",
       "<tr>\n",
       "  <th>Method:</th>             <td>Least Squares</td>  <th>  F-statistic:       </th>          <td>   581.0</td> \n",
       "</tr>\n",
       "<tr>\n",
       "  <th>Date:</th>             <td>Sun, 05 Feb 2023</td> <th>  Prob (F-statistic):</th>          <td>6.78e-156</td>\n",
       "</tr>\n",
       "<tr>\n",
       "  <th>Time:</th>                 <td>13:41:09</td>     <th>  Log-Likelihood:    </th>          <td> -849.87</td> \n",
       "</tr>\n",
       "<tr>\n",
       "  <th>No. Observations:</th>      <td>   289</td>      <th>  AIC:               </th>          <td>   1712.</td> \n",
       "</tr>\n",
       "<tr>\n",
       "  <th>Df Residuals:</th>          <td>   283</td>      <th>  BIC:               </th>          <td>   1734.</td> \n",
       "</tr>\n",
       "<tr>\n",
       "  <th>Df Model:</th>              <td>     6</td>      <th>                     </th>              <td> </td>    \n",
       "</tr>\n",
       "<tr>\n",
       "  <th>Covariance Type:</th>      <td>nonrobust</td>    <th>                     </th>              <td> </td>    \n",
       "</tr>\n",
       "</table>\n",
       "<table class=\"simpletable\">\n",
       "<tr>\n",
       "     <td></td>        <th>coef</th>     <th>std err</th>      <th>t</th>      <th>P>|t|</th>  <th>[0.025</th>    <th>0.975]</th>  \n",
       "</tr>\n",
       "<tr>\n",
       "  <th>age</th>     <td>    0.0888</td> <td>    0.018</td> <td>    4.852</td> <td> 0.000</td> <td>    0.053</td> <td>    0.125</td>\n",
       "</tr>\n",
       "<tr>\n",
       "  <th>income</th>  <td>    0.0001</td> <td> 1.43e-05</td> <td>    7.664</td> <td> 0.000</td> <td> 8.13e-05</td> <td>    0.000</td>\n",
       "</tr>\n",
       "<tr>\n",
       "  <th>drive</th>   <td>    0.6963</td> <td>    0.186</td> <td>    3.747</td> <td> 0.000</td> <td>    0.330</td> <td>    1.062</td>\n",
       "</tr>\n",
       "<tr>\n",
       "  <th>lambda1</th> <td>    1.9490</td> <td>    1.709</td> <td>    1.140</td> <td> 0.255</td> <td>   -1.415</td> <td>    5.313</td>\n",
       "</tr>\n",
       "<tr>\n",
       "  <th>lambda2</th> <td>   -2.5573</td> <td>    3.417</td> <td>   -0.748</td> <td> 0.455</td> <td>   -9.284</td> <td>    4.169</td>\n",
       "</tr>\n",
       "<tr>\n",
       "  <th>lambda3</th> <td>   -1.2380</td> <td>    3.266</td> <td>   -0.379</td> <td> 0.705</td> <td>   -7.666</td> <td>    5.190</td>\n",
       "</tr>\n",
       "</table>\n",
       "<table class=\"simpletable\">\n",
       "<tr>\n",
       "  <th>Omnibus:</th>       <td> 4.023</td> <th>  Durbin-Watson:     </th> <td>   2.078</td>\n",
       "</tr>\n",
       "<tr>\n",
       "  <th>Prob(Omnibus):</th> <td> 0.134</td> <th>  Jarque-Bera (JB):  </th> <td>   4.917</td>\n",
       "</tr>\n",
       "<tr>\n",
       "  <th>Skew:</th>          <td>-0.056</td> <th>  Prob(JB):          </th> <td>  0.0856</td>\n",
       "</tr>\n",
       "<tr>\n",
       "  <th>Kurtosis:</th>      <td> 3.629</td> <th>  Cond. No.          </th> <td>6.02e+05</td>\n",
       "</tr>\n",
       "</table><br/><br/>Notes:<br/>[1] R² is computed without centering (uncentered) since the model does not contain a constant.<br/>[2] Standard Errors assume that the covariance matrix of the errors is correctly specified.<br/>[3] The condition number is large, 6.02e+05. This might indicate that there are<br/>strong multicollinearity or other numerical problems."
      ],
      "text/plain": [
       "<class 'statsmodels.iolib.summary.Summary'>\n",
       "\"\"\"\n",
       "                                 OLS Regression Results                                \n",
       "=======================================================================================\n",
       "Dep. Variable:                  spend   R-squared (uncentered):                   0.925\n",
       "Model:                            OLS   Adj. R-squared (uncentered):              0.923\n",
       "Method:                 Least Squares   F-statistic:                              581.0\n",
       "Date:                Sun, 05 Feb 2023   Prob (F-statistic):                   6.78e-156\n",
       "Time:                        13:41:09   Log-Likelihood:                         -849.87\n",
       "No. Observations:                 289   AIC:                                      1712.\n",
       "Df Residuals:                     283   BIC:                                      1734.\n",
       "Df Model:                           6                                                  \n",
       "Covariance Type:            nonrobust                                                  \n",
       "==============================================================================\n",
       "                 coef    std err          t      P>|t|      [0.025      0.975]\n",
       "------------------------------------------------------------------------------\n",
       "age            0.0888      0.018      4.852      0.000       0.053       0.125\n",
       "income         0.0001   1.43e-05      7.664      0.000    8.13e-05       0.000\n",
       "drive          0.6963      0.186      3.747      0.000       0.330       1.062\n",
       "lambda1        1.9490      1.709      1.140      0.255      -1.415       5.313\n",
       "lambda2       -2.5573      3.417     -0.748      0.455      -9.284       4.169\n",
       "lambda3       -1.2380      3.266     -0.379      0.705      -7.666       5.190\n",
       "==============================================================================\n",
       "Omnibus:                        4.023   Durbin-Watson:                   2.078\n",
       "Prob(Omnibus):                  0.134   Jarque-Bera (JB):                4.917\n",
       "Skew:                          -0.056   Prob(JB):                       0.0856\n",
       "Kurtosis:                       3.629   Cond. No.                     6.02e+05\n",
       "==============================================================================\n",
       "\n",
       "Notes:\n",
       "[1] R² is computed without centering (uncentered) since the model does not contain a constant.\n",
       "[2] Standard Errors assume that the covariance matrix of the errors is correctly specified.\n",
       "[3] The condition number is large, 6.02e+05. This might indicate that there are\n",
       "strong multicollinearity or other numerical problems.\n",
       "\"\"\""
      ]
     },
     "execution_count": 8,
     "metadata": {},
     "output_type": "execute_result"
    }
   ],
   "source": [
    "OLS(y_spend, df_no_nans[['age', 'income', 'drive', \n",
    "                         'lambda1', 'lambda2', 'lambda3']]).fit().summary()"
   ]
  },
  {
   "cell_type": "code",
   "execution_count": 9,
   "id": "010e1070",
   "metadata": {},
   "outputs": [
    {
     "data": {
      "text/html": [
       "<div>\n",
       "<style scoped>\n",
       "    .dataframe tbody tr th:only-of-type {\n",
       "        vertical-align: middle;\n",
       "    }\n",
       "\n",
       "    .dataframe tbody tr th {\n",
       "        vertical-align: top;\n",
       "    }\n",
       "\n",
       "    .dataframe thead th {\n",
       "        text-align: right;\n",
       "    }\n",
       "</style>\n",
       "<table border=\"1\" class=\"dataframe\">\n",
       "  <thead>\n",
       "    <tr style=\"text-align: right;\">\n",
       "      <th></th>\n",
       "      <th>method</th>\n",
       "      <th>const</th>\n",
       "      <th>b1</th>\n",
       "      <th>b2</th>\n",
       "      <th>b3</th>\n",
       "    </tr>\n",
       "  </thead>\n",
       "  <tbody>\n",
       "    <tr>\n",
       "      <th>0</th>\n",
       "      <td>Истина</td>\n",
       "      <td>1.000000</td>\n",
       "      <td>0.100000</td>\n",
       "      <td>0.000100</td>\n",
       "      <td>1.000000</td>\n",
       "    </tr>\n",
       "    <tr>\n",
       "      <th>1</th>\n",
       "      <td>МНК</td>\n",
       "      <td>5.954993</td>\n",
       "      <td>0.076271</td>\n",
       "      <td>0.000080</td>\n",
       "      <td>0.705369</td>\n",
       "    </tr>\n",
       "    <tr>\n",
       "      <th>2</th>\n",
       "      <td>Дурбин-МакФадден</td>\n",
       "      <td>15.397569</td>\n",
       "      <td>0.077156</td>\n",
       "      <td>0.000051</td>\n",
       "      <td>0.692962</td>\n",
       "    </tr>\n",
       "  </tbody>\n",
       "</table>\n",
       "</div>"
      ],
      "text/plain": [
       "             method      const        b1        b2        b3\n",
       "0            Истина   1.000000  0.100000  0.000100  1.000000\n",
       "1               МНК   5.954993  0.076271  0.000080  0.705369\n",
       "2  Дурбин-МакФадден  15.397569  0.077156  0.000051  0.692962"
      ]
     },
     "execution_count": 9,
     "metadata": {},
     "output_type": "execute_result"
    }
   ],
   "source": [
    "all_coefs = []\n",
    "all_coefs.append(['Истина', 1, 0.1, 0.0001, 1])\n",
    "all_coefs.append(['МНК', lm.intercept_] + list(lm.coef_))\n",
    "all_coefs.append(['Дурбин-МакФадден', dmf.intercept_] + list(dmf.coef_[:3]))\n",
    "\n",
    "pd.DataFrame(all_coefs, columns=['method', 'const', 'b1', 'b2', 'b3'])"
   ]
  },
  {
   "cell_type": "code",
   "execution_count": null,
   "id": "3744de4b",
   "metadata": {},
   "outputs": [],
   "source": []
  },
  {
   "cell_type": "markdown",
   "id": "901ceed2",
   "metadata": {},
   "source": [
    "## Ошибки не по Гумбелю\n",
    "### а) Многомерное нормальное"
   ]
  },
  {
   "cell_type": "code",
   "execution_count": 17,
   "id": "c0179cb7",
   "metadata": {},
   "outputs": [
    {
     "data": {
      "text/plain": [
       "array([[-1.45206952, -0.93120404,  0.21226216,  0.25273917],\n",
       "       [-0.41051015,  1.4475736 , -0.13113773, -0.7118186 ],\n",
       "       [-0.58139681, -0.72107776,  1.37309482,  1.53563704],\n",
       "       ...,\n",
       "       [ 0.66493743,  0.06074358, -0.71245419, -0.55017408],\n",
       "       [ 0.60505047,  0.721411  , -0.88653091, -1.03199916],\n",
       "       [-1.79462533, -0.97659186,  0.71112438,  1.60613677]])"
      ]
     },
     "execution_count": 17,
     "metadata": {},
     "output_type": "execute_result"
    }
   ],
   "source": [
    "mu = np.array([0, 0, 0, 0])\n",
    "\n",
    "cov = np.array([[1   , 0.5 , -0.2, 0.1 ],\n",
    "                [0.5 , 1   , 0.25, -0.1],\n",
    "                [-0.2, 0.25, 1   , 0.7 ],\n",
    "                [0.1 , -0.1, 0.7 , 1   ]])\n",
    "\n",
    "np.random.multivariate_normal(mean=mu, cov=cov, size=1000)"
   ]
  },
  {
   "cell_type": "code",
   "execution_count": 18,
   "id": "ac9533bc",
   "metadata": {},
   "outputs": [],
   "source": [
    "def generate_sample2(n, betas=betas, beta_spend=beta_spend, verbose=False):\n",
    "    \n",
    "    ### Регрессоры\n",
    "    x0 = np.ones(shape=n)\n",
    "    x1 = np.exp(np.random.normal(loc=10, scale=0.7, size=n))\n",
    "    x2 = np.random.poisson(lam=3, size=n)\n",
    "    x2[x2 > 5] = 5\n",
    "    x3 = np.round(np.random.uniform(low=20, high=100, size=n))\n",
    "    x4 = np.random.poisson(lam=3, size=n)\n",
    "    x4[x4 > 5] = 5\n",
    "    df = pd.DataFrame(zip(x0, x1, x2, x3, x4),\n",
    "                      columns=['const', 'income', 'health', 'age', 'drive'])\n",
    "    \n",
    "    ### Линейные индексы\n",
    "    all_eps = np.random.multivariate_normal(mean=mu, cov=cov, size=n)\n",
    "    eps = all_eps[:, :3]\n",
    "    eps_spend = all_eps[:, 3]\n",
    "    y_li = df[['const', 'income', 'health', 'age']] @ betas.T\n",
    "    df[['y_star_Car', 'y_star_Taxi', 'y_star_Public']] = y_li + eps\n",
    "    df['transport'] = np.argmax(np.array(df[['y_star_Car', 'y_star_Taxi', 'y_star_Public']]), axis=1)\n",
    "\n",
    "    if verbose:\n",
    "        print(df.transport.value_counts())\n",
    "    \n",
    "    ### Расходы\n",
    "    spend_li = df[['const', 'age', 'income', 'drive']] @ beta_spend.T\n",
    "    df['spend'] = spend_li + eps_spend\n",
    "    \n",
    "    df.loc[df['transport'] != 0, 'spend'] = np.nan\n",
    "    \n",
    "    return df"
   ]
  },
  {
   "cell_type": "code",
   "execution_count": null,
   "id": "5086c938",
   "metadata": {},
   "outputs": [],
   "source": []
  },
  {
   "cell_type": "markdown",
   "id": "bb9242a8",
   "metadata": {},
   "source": [
    "### б) Экспоненциальное распределение ошибок"
   ]
  },
  {
   "cell_type": "code",
   "execution_count": 20,
   "id": "721515ef",
   "metadata": {},
   "outputs": [],
   "source": [
    "def generate_sample3(n, betas=betas, beta_spend=beta_spend, verbose=False):\n",
    "    \n",
    "    ### Регрессоры\n",
    "    x0 = np.ones(shape=n)\n",
    "    x1 = np.exp(np.random.normal(loc=10, scale=0.7, size=n))\n",
    "    x2 = np.random.poisson(lam=3, size=n)\n",
    "    x2[x2 > 5] = 5\n",
    "    x3 = np.round(np.random.uniform(low=20, high=100, size=n))\n",
    "    x4 = np.random.poisson(lam=3, size=n)\n",
    "    x4[x4 > 5] = 5\n",
    "    df = pd.DataFrame(zip(x0, x1, x2, x3, x4),\n",
    "                      columns=['const', 'income', 'health', 'age', 'drive'])\n",
    "    \n",
    "    ### Линейные индексы\n",
    "    all_eps = np.random.exponential(1, size=(n, 4)) - 1\n",
    "    eps = all_eps[:, :3]\n",
    "    eps_spend = all_eps[:, 3]\n",
    "    y_li = df[['const', 'income', 'health', 'age']] @ betas.T\n",
    "    df[['y_star_Car', 'y_star_Taxi', 'y_star_Public']] = y_li + eps\n",
    "    df['transport'] = np.argmax(np.array(df[['y_star_Car', 'y_star_Taxi', 'y_star_Public']]), axis=1)\n",
    "\n",
    "    if verbose:\n",
    "        print(df.transport.value_counts())\n",
    "    \n",
    "    ### Расходы\n",
    "    spend_li = df[['const', 'age', 'income', 'drive']] @ beta_spend.T\n",
    "    df['spend'] = spend_li + eps_spend\n",
    "    \n",
    "    df.loc[df['transport'] != 0, 'spend'] = np.nan\n",
    "    \n",
    "    return df"
   ]
  },
  {
   "cell_type": "code",
   "execution_count": null,
   "id": "9ff27c65",
   "metadata": {},
   "outputs": [],
   "source": []
  },
  {
   "cell_type": "markdown",
   "id": "2d890176",
   "metadata": {},
   "source": [
    "### Полиномы (подобранные на кросс-валидации по 10 фолдам)"
   ]
  },
  {
   "cell_type": "markdown",
   "id": "2c790997",
   "metadata": {},
   "source": [
    "### Экспоненциальное распределение"
   ]
  },
  {
   "cell_type": "code",
   "execution_count": 21,
   "id": "73a94f5f",
   "metadata": {},
   "outputs": [],
   "source": [
    "def simulate7(n_simulations, n_size):\n",
    "    \n",
    "    ols_coefs = []\n",
    "    dmf_coefs = []\n",
    "    ml_coefs = []\n",
    "    best_ks = []\n",
    "    \n",
    "\n",
    "    for i in tqdm(range(n_simulations)):\n",
    "        \n",
    "        ### Генерируем данные\n",
    "        df = generate_sample3(n_size)\n",
    "        X, y = df[['const', 'income', 'health', 'age']], df['transport']\n",
    "        df_no_nans = df.dropna()\n",
    "        X_spend = df_no_nans[['age', 'income', 'drive']]\n",
    "        y_spend = df_no_nans['spend']\n",
    "        \n",
    "        ### МНК\n",
    "        lm = LinearRegression().fit(X_spend, y_spend)\n",
    "        ols_coefs.append([lm.intercept_] + list(lm.coef_))\n",
    "        \n",
    "        ### DMF\n",
    "        ## Вероятности\n",
    "        lr = MNLogit(y, X).fit(disp=0)\n",
    "        prob_lr = lr.predict()\n",
    "        \n",
    "        ## Лямбды\n",
    "        df['lambda1'] = -np.log(prob_lr[:, 0])\n",
    "        df['lambda2'] = prob_lr[:, 1] * np.log(prob_lr[:, 1]) / (1 - prob_lr[:, 1])\n",
    "        df['lambda3'] = prob_lr[:, 2] * np.log(prob_lr[:, 2]) / (1 - prob_lr[:, 2])\n",
    "        df_no_nans = df.dropna()\n",
    "    \n",
    "        ## Линейная модель\n",
    "        dmf = LinearRegression().fit(df_no_nans[['age', 'income', 'drive', \n",
    "                                                 'lambda1', 'lambda2', 'lambda3']], y_spend)\n",
    "        dmf_coefs.append([dmf.intercept_] + list(dmf.coef_[:3]))\n",
    "        \n",
    "        ### Бустинг\n",
    "        ## Вероятности\n",
    "        X, y = df[['income', 'health', 'age']], df['transport']\n",
    "        boosting = CatBoostClassifier(iterations=10, max_depth=3, verbose=0)\n",
    "        boosting.fit(X, y)\n",
    "        prob_boost = boosting.predict_proba(X)\n",
    "        \n",
    "        ## Полиномы вероятностей\n",
    "        # Подбираем лучший по CV (по RMSE)\n",
    "        ks = np.arange(1, 7)\n",
    "        all_rmses = []\n",
    "        for k in ks:\n",
    "            # генерируем степени вероятностей\n",
    "            for i in range(1, k+1):\n",
    "                df[f'proba0^{i}'] = prob_boost[:, 0] ** i\n",
    "                df[f'proba1^{i}'] = prob_boost[:, 1] ** i\n",
    "                df[f'proba2^{i}'] = prob_boost[:, 2] ** i\n",
    "            needed_columns = ['age', 'income', 'drive'] \\\n",
    "                           + [f'proba{category}^{power}' for category in [0, 1, 2] \n",
    "                                                         for power in range(1, i)]\n",
    "            X, y = df.dropna()[needed_columns], df.dropna()['spend']\n",
    "            \n",
    "            # считаем RMSE по KFold\n",
    "            mse_for_k = []\n",
    "            kf = KFold(n_splits=10)\n",
    "            for train, test in kf.split(X, y):\n",
    "                X_train, y_train = X.iloc[train], y.iloc[train]\n",
    "                X_test, y_test = X.iloc[test], y.iloc[test]\n",
    "                \n",
    "                lm = LinearRegression().fit(X_train, y_train)\n",
    "                mse_for_k.append((y_test - lm.predict(X_test)) ** 2)\n",
    "                \n",
    "            all_rmses.append(np.sqrt(np.mean(mse_for_k)))\n",
    "        best_k = ks[np.argmin(all_rmses)]\n",
    "        best_ks.append(best_k)\n",
    "        \n",
    "        df_no_nans = df.dropna()\n",
    "        \n",
    "        ## Линейная модель\n",
    "        needed_columns = ['age', 'income', 'drive'] \\\n",
    "                       + [f'proba{category}^{power}' for category in [0, 1, 2] for power in range(1, best_k+1)]\n",
    "        \n",
    "        dmf_ml = LinearRegression().fit(df_no_nans[needed_columns], y_spend)\n",
    "        ml_coefs.append([dmf_ml.intercept_] + list(dmf_ml.coef_[:3]))\n",
    "        \n",
    "    return ols_coefs, dmf_coefs, ml_coefs, best_ks\n",
    "        "
   ]
  },
  {
   "cell_type": "code",
   "execution_count": 22,
   "id": "41b98a87",
   "metadata": {},
   "outputs": [
    {
     "name": "stdout",
     "output_type": "stream",
     "text": [
      "Текущий размер выборки (уже посчитан): 10000\n"
     ]
    }
   ],
   "source": [
    "np.random.seed(999)\n",
    "\n",
    "n_sizes = np.arange(1000, 10100, 100)\n",
    "n_simulations = 100\n",
    "best_ks_low = []\n",
    "best_ks_up = []\n",
    "best_ks_mid = []\n",
    "\n",
    "for n_size in n_sizes:\n",
    "    ols_coefs, dmf_coefs, ml_coefs, best_ks = simulate7(n_simulations, n_size)\n",
    "\n",
    "    best_ks_low.append(np.quantile(best_ks, 0.05))\n",
    "    best_ks_up.append(np.quantile(best_ks, 0.95))\n",
    "    best_ks_mid.append(np.quantile(best_ks, 0.5))\n",
    "    \n",
    "    clear_output(wait=True)\n",
    "    print('Текущий размер выборки (уже посчитан):', n_size)"
   ]
  },
  {
   "cell_type": "code",
   "execution_count": 23,
   "id": "918803fa",
   "metadata": {},
   "outputs": [
    {
     "data": {
      "text/plain": [
       "<matplotlib.collections.PolyCollection at 0x7fb768150f40>"
      ]
     },
     "execution_count": 23,
     "metadata": {},
     "output_type": "execute_result"
    },
    {
     "data": {
      "image/png": "[encoded data removed]",
      "text/plain": [
       "<Figure size 864x576 with 1 Axes>"
      ]
     },
     "metadata": {
      "image/png": {
       "height": 465,
       "width": 706
      },
      "needs_background": "light"
     },
     "output_type": "display_data"
    }
   ],
   "source": [
    "plt.plot(n_sizes, best_ks_mid)\n",
    "plt.fill_between(n_sizes, best_ks_low, best_ks_up, color='b', alpha=.1);"
   ]
  },
  {
   "cell_type": "code",
   "execution_count": null,
   "id": "7e920f02",
   "metadata": {},
   "outputs": [],
   "source": []
  },
  {
   "cell_type": "markdown",
   "id": "5904f9d8",
   "metadata": {},
   "source": [
    "### Ошибки из многомерного нормального"
   ]
  },
  {
   "cell_type": "code",
   "execution_count": 28,
   "id": "ede7cc5e",
   "metadata": {},
   "outputs": [],
   "source": [
    "def simulate8(n_simulations, n_size):\n",
    "    \n",
    "    ols_coefs = []\n",
    "    dmf_coefs = []\n",
    "    ml_coefs = []\n",
    "    best_ks = []\n",
    "    \n",
    "\n",
    "    for i in tqdm(range(n_simulations)):\n",
    "        \n",
    "        ### Генерируем данные\n",
    "        df = generate_sample2(n_size)\n",
    "        X, y = df[['const', 'income', 'health', 'age']], df['transport']\n",
    "        df_no_nans = df.dropna()\n",
    "        X_spend = df_no_nans[['age', 'income', 'drive']]\n",
    "        y_spend = df_no_nans['spend']\n",
    "        \n",
    "        ### МНК\n",
    "        lm = LinearRegression().fit(X_spend, y_spend)\n",
    "        ols_coefs.append([lm.intercept_] + list(lm.coef_))\n",
    "        \n",
    "        ### DMF\n",
    "        ## Вероятности\n",
    "        lr = MNLogit(y, X).fit(disp=0)\n",
    "        prob_lr = lr.predict()\n",
    "        \n",
    "        ## Лямбды\n",
    "        df['lambda1'] = -np.log(prob_lr[:, 0])\n",
    "        df['lambda2'] = prob_lr[:, 1] * np.log(prob_lr[:, 1]) / (1 - prob_lr[:, 1])\n",
    "        df['lambda3'] = prob_lr[:, 2] * np.log(prob_lr[:, 2]) / (1 - prob_lr[:, 2])\n",
    "        df_no_nans = df.dropna()\n",
    "    \n",
    "        ## Линейная модель\n",
    "        dmf = LinearRegression().fit(df_no_nans[['age', 'income', 'drive', \n",
    "                                                 'lambda1', 'lambda2', 'lambda3']], y_spend)\n",
    "        dmf_coefs.append([dmf.intercept_] + list(dmf.coef_[:3]))\n",
    "        \n",
    "        ### Бустинг\n",
    "        ## Вероятности\n",
    "        X, y = df[['income', 'health', 'age']], df['transport']\n",
    "        boosting = CatBoostClassifier(iterations=10, max_depth=3, verbose=0)\n",
    "        boosting.fit(X, y)\n",
    "        prob_boost = boosting.predict_proba(X)\n",
    "        \n",
    "        ## Полиномы вероятностей\n",
    "        # Подбираем лучший по LOO-CV (по RMSE)\n",
    "        ks = np.arange(1, 7)\n",
    "        all_rmses = []\n",
    "        for k in ks:\n",
    "            # генерируем степени вероятностей\n",
    "            for i in range(1, k+1):\n",
    "                df[f'proba0^{i}'] = prob_boost[:, 0] ** i\n",
    "                df[f'proba1^{i}'] = prob_boost[:, 1] ** i\n",
    "                df[f'proba2^{i}'] = prob_boost[:, 2] ** i\n",
    "            needed_columns = ['age', 'income', 'drive'] \\\n",
    "                           + [f'proba{category}^{power}' for category in [0, 1, 2] \n",
    "                                                         for power in range(1, i)]\n",
    "            X, y = df.dropna()[needed_columns], df.dropna()['spend']\n",
    "            \n",
    "            # считаем RMSE по KFold\n",
    "            mse_for_k = []\n",
    "            kf = KFold(n_splits=10)\n",
    "            for train, test in kf.split(X, y):\n",
    "                X_train, y_train = X.iloc[train], y.iloc[train]\n",
    "                X_test, y_test = X.iloc[test], y.iloc[test]\n",
    "                \n",
    "                lm = LinearRegression().fit(X_train, y_train)\n",
    "                mse_for_k.append((y_test - lm.predict(X_test)) ** 2)\n",
    "                \n",
    "            all_rmses.append(np.sqrt(np.mean(mse_for_k)))\n",
    "        best_k = ks[np.argmin(all_rmses)]\n",
    "        best_ks.append(best_k)\n",
    "        \n",
    "        df_no_nans = df.dropna()\n",
    "        \n",
    "        ## Линейная модель\n",
    "        needed_columns = ['age', 'income', 'drive'] \\\n",
    "                       + [f'proba{category}^{power}' for category in [0, 1, 2] for power in range(1, best_k+1)]\n",
    "        \n",
    "        dmf_ml = LinearRegression().fit(df_no_nans[needed_columns], y_spend)\n",
    "        ml_coefs.append([dmf_ml.intercept_] + list(dmf_ml.coef_[:3]))\n",
    "        \n",
    "    return ols_coefs, dmf_coefs, ml_coefs, best_ks\n",
    "        "
   ]
  },
  {
   "cell_type": "code",
   "execution_count": 29,
   "id": "b51c11a3",
   "metadata": {},
   "outputs": [
    {
     "name": "stdout",
     "output_type": "stream",
     "text": [
      "Текущий размер выборки (уже посчитан): 10000\n"
     ]
    }
   ],
   "source": [
    "np.random.seed(999)\n",
    "\n",
    "n_sizes = np.arange(1000, 10100, 100)\n",
    "n_simulations = 100\n",
    "best_ks_low = []\n",
    "best_ks_up = []\n",
    "best_ks_mid = []\n",
    "\n",
    "for n_size in n_sizes:\n",
    "    ols_coefs, dmf_coefs, ml_coefs, best_ks = simulate8(n_simulations, n_size)\n",
    "\n",
    "    best_ks_low.append(np.quantile(best_ks, 0.05))\n",
    "    best_ks_up.append(np.quantile(best_ks, 0.95))\n",
    "    best_ks_mid.append(np.quantile(best_ks, 0.5))\n",
    "    \n",
    "    clear_output(wait=True)\n",
    "    print('Текущий размер выборки (уже посчитан):', n_size)"
   ]
  },
  {
   "cell_type": "code",
   "execution_count": 30,
   "id": "8047a72c",
   "metadata": {},
   "outputs": [
    {
     "data": {
      "image/png": "[encoded data removed]",
      "text/plain": [
       "<Figure size 864x576 with 1 Axes>"
      ]
     },
     "metadata": {
      "image/png": {
       "height": 465,
       "width": 713
      },
      "needs_background": "light"
     },
     "output_type": "display_data"
    }
   ],
   "source": [
    "plt.plot(n_sizes, best_ks_mid)\n",
    "plt.fill_between(n_sizes, best_ks_low, best_ks_up, color='b', alpha=.1);"
   ]
  },
  {
   "cell_type": "code",
   "execution_count": null,
   "id": "4a1533c5",
   "metadata": {},
   "outputs": [],
   "source": []
  },
  {
   "cell_type": "markdown",
   "id": "e30f113b",
   "metadata": {},
   "source": [
    "### Ошибки из Гумбеля"
   ]
  },
  {
   "cell_type": "code",
   "execution_count": 31,
   "id": "be35fe91",
   "metadata": {},
   "outputs": [],
   "source": [
    "def simulate9(n_simulations, n_size):\n",
    "    \n",
    "    ols_coefs = []\n",
    "    dmf_coefs = []\n",
    "    ml_coefs = []\n",
    "    best_ks = []\n",
    "    \n",
    "\n",
    "    for i in tqdm(range(n_simulations)):\n",
    "        \n",
    "        ### Генерируем данные\n",
    "        df = generate_sample(n_size)\n",
    "        X, y = df[['const', 'income', 'health', 'age']], df['transport']\n",
    "        df_no_nans = df.dropna()\n",
    "        X_spend = df_no_nans[['age', 'income', 'drive']]\n",
    "        y_spend = df_no_nans['spend']\n",
    "        \n",
    "        ### МНК\n",
    "        lm = LinearRegression().fit(X_spend, y_spend)\n",
    "        ols_coefs.append([lm.intercept_] + list(lm.coef_))\n",
    "        \n",
    "        ### DMF\n",
    "        ## Вероятности\n",
    "        lr = MNLogit(y, X).fit(disp=0)\n",
    "        prob_lr = lr.predict()\n",
    "        \n",
    "        ## Лямбды\n",
    "        df['lambda1'] = -np.log(prob_lr[:, 0])\n",
    "        df['lambda2'] = prob_lr[:, 1] * np.log(prob_lr[:, 1]) / (1 - prob_lr[:, 1])\n",
    "        df['lambda3'] = prob_lr[:, 2] * np.log(prob_lr[:, 2]) / (1 - prob_lr[:, 2])\n",
    "        df_no_nans = df.dropna()\n",
    "    \n",
    "        ## Линейная модель\n",
    "        dmf = LinearRegression().fit(df_no_nans[['age', 'income', 'drive', \n",
    "                                                 'lambda1', 'lambda2', 'lambda3']], y_spend)\n",
    "        dmf_coefs.append([dmf.intercept_] + list(dmf.coef_[:3]))\n",
    "        \n",
    "        ### Бустинг\n",
    "        ## Вероятности\n",
    "        X, y = df[['income', 'health', 'age']], df['transport']\n",
    "        boosting = CatBoostClassifier(iterations=10, max_depth=3, verbose=0)\n",
    "        boosting.fit(X, y)\n",
    "        prob_boost = boosting.predict_proba(X)\n",
    "        \n",
    "        ## Полиномы вероятностей\n",
    "        # Подбираем лучший по LOO-CV (по RMSE)\n",
    "        ks = np.arange(1, 7)\n",
    "        all_rmses = []\n",
    "        for k in ks:\n",
    "            # генерируем степени вероятностей\n",
    "            for i in range(1, k+1):\n",
    "                df[f'proba0^{i}'] = prob_boost[:, 0] ** i\n",
    "                df[f'proba1^{i}'] = prob_boost[:, 1] ** i\n",
    "                df[f'proba2^{i}'] = prob_boost[:, 2] ** i\n",
    "            needed_columns = ['age', 'income', 'drive'] \\\n",
    "                           + [f'proba{category}^{power}' for category in [0, 1, 2] \n",
    "                                                         for power in range(1, i)]\n",
    "            X, y = df.dropna()[needed_columns], df.dropna()['spend']\n",
    "            \n",
    "            # считаем RMSE по KFold\n",
    "            mse_for_k = []\n",
    "            kf = KFold(n_splits=10)\n",
    "            for train, test in kf.split(X, y):\n",
    "                X_train, y_train = X.iloc[train], y.iloc[train]\n",
    "                X_test, y_test = X.iloc[test], y.iloc[test]\n",
    "                \n",
    "                lm = LinearRegression().fit(X_train, y_train)\n",
    "                mse_for_k.append((y_test - lm.predict(X_test)) ** 2)\n",
    "                \n",
    "            all_rmses.append(np.sqrt(np.mean(mse_for_k)))\n",
    "        best_k = ks[np.argmin(all_rmses)]\n",
    "        best_ks.append(best_k)\n",
    "        \n",
    "        df_no_nans = df.dropna()\n",
    "        \n",
    "        ## Линейная модель\n",
    "        needed_columns = ['age', 'income', 'drive'] \\\n",
    "                       + [f'proba{category}^{power}' for category in [0, 1, 2] for power in range(1, best_k+1)]\n",
    "        \n",
    "        dmf_ml = LinearRegression().fit(df_no_nans[needed_columns], y_spend)\n",
    "        ml_coefs.append([dmf_ml.intercept_] + list(dmf_ml.coef_[:3]))\n",
    "        \n",
    "    return ols_coefs, dmf_coefs, ml_coefs, best_ks\n",
    "        "
   ]
  },
  {
   "cell_type": "code",
   "execution_count": 32,
   "id": "9965b7bf",
   "metadata": {},
   "outputs": [
    {
     "name": "stdout",
     "output_type": "stream",
     "text": [
      "Текущий размер выборки (уже посчитан): 10000\n"
     ]
    }
   ],
   "source": [
    "np.random.seed(999)\n",
    "\n",
    "n_sizes = np.arange(1000, 10100, 100)\n",
    "n_simulations = 100\n",
    "best_ks_low = []\n",
    "best_ks_up = []\n",
    "best_ks_mid = []\n",
    "\n",
    "for n_size in n_sizes:\n",
    "    ols_coefs, dmf_coefs, ml_coefs, best_ks = simulate9(n_simulations, n_size)\n",
    "\n",
    "    best_ks_low.append(np.quantile(best_ks, 0.05))\n",
    "    best_ks_up.append(np.quantile(best_ks, 0.95))\n",
    "    best_ks_mid.append(np.quantile(best_ks, 0.5))\n",
    "    \n",
    "    clear_output(wait=True)\n",
    "    print('Текущий размер выборки (уже посчитан):', n_size)"
   ]
  },
  {
   "cell_type": "code",
   "execution_count": 33,
   "id": "430d0456",
   "metadata": {},
   "outputs": [
    {
     "data": {
      "image/png": "[encoded data removed]",
      "text/plain": [
       "<Figure size 864x576 with 1 Axes>"
      ]
     },
     "metadata": {
      "image/png": {
       "height": 465,
       "width": 713
      },
      "needs_background": "light"
     },
     "output_type": "display_data"
    }
   ],
   "source": [
    "plt.plot(n_sizes, best_ks_mid)\n",
    "plt.fill_between(n_sizes, best_ks_low, best_ks_up, color='b', alpha=.1);"
   ]
  },
  {
   "cell_type": "code",
   "execution_count": 37,
   "id": "c3f25e94",
   "metadata": {},
   "outputs": [
    {
     "name": "stdout",
     "output_type": "stream",
     "text": [
      "2    5202\n",
      "0    2688\n",
      "1    2110\n",
      "Name: transport, dtype: int64\n"
     ]
    },
    {
     "data": {
      "text/plain": [
       "y_star_Car       1.507273\n",
       "y_star_Taxi      1.266425\n",
       "y_star_Public    1.988271\n",
       "dtype: float64"
      ]
     },
     "execution_count": 37,
     "metadata": {},
     "output_type": "execute_result"
    }
   ],
   "source": [
    "generate_sample3(n=10000, verbose=True)[['y_star_Car', 'y_star_Taxi', 'y_star_Public']].var()"
   ]
  },
  {
   "cell_type": "code",
   "execution_count": null,
   "id": "e1af0ddc",
   "metadata": {},
   "outputs": [],
   "source": []
  },
  {
   "cell_type": "code",
   "execution_count": 38,
   "id": "473ed81e",
   "metadata": {},
   "outputs": [
    {
     "name": "stdout",
     "output_type": "stream",
     "text": [
      "2    4754\n",
      "0    2823\n",
      "1    2423\n",
      "Name: transport, dtype: int64\n"
     ]
    },
    {
     "data": {
      "text/plain": [
       "y_star_Car       2.187364\n",
       "y_star_Taxi      1.964504\n",
       "y_star_Public    2.538554\n",
       "dtype: float64"
      ]
     },
     "execution_count": 38,
     "metadata": {},
     "output_type": "execute_result"
    }
   ],
   "source": [
    "generate_sample(n=10000, verbose=True)[['y_star_Car', 'y_star_Taxi', 'y_star_Public']].var()"
   ]
  },
  {
   "cell_type": "code",
   "execution_count": null,
   "id": "a41b587f",
   "metadata": {},
   "outputs": [],
   "source": []
  },
  {
   "cell_type": "code",
   "execution_count": null,
   "id": "7bb34d80",
   "metadata": {},
   "outputs": [],
   "source": []
  }
 ],
 "metadata": {
  "kernelspec": {
   "display_name": "Python 3 (ipykernel)",
   "language": "python",
   "name": "python3"
  },
  "language_info": {
   "codemirror_mode": {
    "name": "ipython",
    "version": 3
   },
   "file_extension": ".py",
   "mimetype": "text/x-python",
   "name": "python",
   "nbconvert_exporter": "python",
   "pygments_lexer": "ipython3",
   "version": "3.9.12"
  }
 },
 "nbformat": 4,
 "nbformat_minor": 5
}
